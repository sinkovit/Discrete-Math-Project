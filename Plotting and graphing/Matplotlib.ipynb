{
 "cells": [
  {
   "cell_type": "markdown",
   "metadata": {},
   "source": [
    "# Matplotlib"
   ]
  },
  {
   "cell_type": "markdown",
   "metadata": {},
   "source": [
    "There are several ways to do plotting and charting in Python. Here we'll focus on Matplotlib and several basic types of charts: scatter plots, line plots, bar plots and histograms. Matplotlib has three layers. A backend layer that renders a plot to a screen or file, an artist layer that defines containers and primitives (e.g. figures axes, subplots, line2D, rectangle) and a scripting layer that we use to interact with the backend and artist layers. For the scripting layer, we'll be using pyplot."
   ]
  },
  {
   "cell_type": "markdown",
   "metadata": {},
   "source": [
    "## Note on syntax"
   ]
  },
  {
   "cell_type": "markdown",
   "metadata": {},
   "source": [
    "Matplotlib provides two ways to generate figures. The more basic or elementary approach involves calling the matplotlib.pyplot.figure method, which creates a new figure. \n",
    "\n",
    "The more advanced approach starts with a call to the matplotlib.pyplot.subplots method, which returns a Figure object and one or more Axes objects.\n",
    "\n",
    "Throughout this tutorial we'll use the latter, with the more basic approach commented out for reference. In my opinion this is more intuitive, makes it easier to access the advanced features and eases the transition to generating complex figures containing more than one subgraph. Many of the questions answered on resources such as StackOverflow are based on the advanced interface."
   ]
  },
  {
   "cell_type": "code",
   "execution_count": null,
   "metadata": {},
   "outputs": [],
   "source": [
    "# Boiler plate for using matplotlib\n",
    "%matplotlib inline\n",
    "import matplotlib as mpl\n",
    "mpl.get_backend()\n",
    "import matplotlib.pyplot as plt"
   ]
  },
  {
   "cell_type": "code",
   "execution_count": null,
   "metadata": {},
   "outputs": [],
   "source": [
    "import numpy as np"
   ]
  },
  {
   "cell_type": "code",
   "execution_count": null,
   "metadata": {},
   "outputs": [],
   "source": [
    "# Define a few lists that we'll use in our examples\n",
    "x = [x for x in range(1,11)]\n",
    "w = [x**1.5 for x in range(1,11)]\n",
    "y = [x**1.75 for x in range(1,11)]\n",
    "z = [x**2 for x in range(1,11)]"
   ]
  },
  {
   "cell_type": "markdown",
   "metadata": {},
   "source": [
    "## Scatter plots"
   ]
  },
  {
   "cell_type": "markdown",
   "metadata": {},
   "source": [
    "In the next few cells, we'll build some simple scatter plots step-by-step. We start by plotting a single set of paired data. In this example and the examples that follow, we're primarily calling methods of the Axes class. See https://matplotlib.org/api/axes_api.html for more details."
   ]
  },
  {
   "cell_type": "code",
   "execution_count": null,
   "metadata": {},
   "outputs": [],
   "source": [
    "# Show the data we're going to plot\n",
    "w"
   ]
  },
  {
   "cell_type": "code",
   "execution_count": null,
   "metadata": {},
   "outputs": [],
   "source": [
    "#plt.figure()\n",
    "#plt.scatter(x, w)\n",
    "#plt.show()\n",
    "\n",
    "f, ax = plt.subplots()\n",
    "ax.scatter(x,w)\n",
    "plt.show()"
   ]
  },
  {
   "cell_type": "markdown",
   "metadata": {},
   "source": [
    "Borders of the plot can be turned off using the spines method. In the example below, we turn off the top and right borders. Code to turn off left and bottom borders in commented out."
   ]
  },
  {
   "cell_type": "code",
   "execution_count": null,
   "metadata": {},
   "outputs": [],
   "source": [
    "#plt.figure()\n",
    "#plt.scatter(x, w)\n",
    "#plt.show()\n",
    "\n",
    "f, ax = plt.subplots()\n",
    "ax.scatter(x,w)\n",
    "\n",
    "ax.spines['top'].set_visible(False)\n",
    "ax.spines['right'].set_visible(False)\n",
    "#ax.spines['left'].set_visible(False)\n",
    "#ax.spines['bottom'].set_visible(False)\n",
    "\n",
    "plt.show()"
   ]
  },
  {
   "cell_type": "markdown",
   "metadata": {},
   "source": [
    "We can plot multiple data sets on the same graph with multiple calls to scatter()"
   ]
  },
  {
   "cell_type": "code",
   "execution_count": null,
   "metadata": {},
   "outputs": [],
   "source": [
    "#plt.figure()\n",
    "#plt.scatter(x, w)\n",
    "#plt.scatter(x, y)\n",
    "#plt.scatter(x, z)\n",
    "#plt.show()\n",
    "\n",
    "f, ax = plt.subplots()\n",
    "ax.scatter(x, w)\n",
    "ax.scatter(x, y)\n",
    "ax.scatter(x, z)\n",
    "plt.show()"
   ]
  },
  {
   "cell_type": "markdown",
   "metadata": {},
   "source": [
    "Data points are assigned default sizes, shapes (filled circles) and colors. We can override these defaults to customize our graphs."
   ]
  },
  {
   "cell_type": "code",
   "execution_count": null,
   "metadata": {},
   "outputs": [],
   "source": [
    "#plt.figure()\n",
    "#plt.scatter(x, w, c='red', s=25, marker='s')\n",
    "#plt.scatter(x, y, c='blue', s=50, marker='^')\n",
    "#plt.scatter(x, z, c='purple', s=100, marker='+')\n",
    "#plt.show()\n",
    "\n",
    "f, ax = plt.subplots()\n",
    "ax.scatter(x, w, c='red', s=25, marker='s')\n",
    "ax.scatter(x, y, c='blue', s=50, marker='^')\n",
    "ax.scatter(x, z, c='purple', s=100, marker='+')\n",
    "plt.show()"
   ]
  },
  {
   "cell_type": "markdown",
   "metadata": {},
   "source": [
    "In the previous example, we assigned the same color and marker size to all points in our plot. We can also use lists to assign different sizes and colors to each point"
   ]
  },
  {
   "cell_type": "code",
   "execution_count": null,
   "metadata": {},
   "outputs": [],
   "source": [
    "#plt.figure()\n",
    "#colors = []\n",
    "#colors[0:4] = ['red'] * 5\n",
    "#colors[5:9] = ['black'] * 5\n",
    "#sizes = [25 + x*10 for x in range(10)]\n",
    "#plt.scatter(x, w, c=colors, s=sizes, marker='o')\n",
    "#plt.show()\n",
    "\n",
    "f, ax = plt.subplots()\n",
    "colors = []\n",
    "colors[0:4] = ['red'] * 5\n",
    "colors[5:9] = ['black'] * 5\n",
    "sizes = [25 + x*10 for x in range(10)]\n",
    "ax.scatter(x, w, c=colors, s=sizes, marker='o')\n",
    "plt.show()"
   ]
  },
  {
   "cell_type": "markdown",
   "metadata": {},
   "source": [
    "We can make the figure more useful by adding a title and axis labels"
   ]
  },
  {
   "cell_type": "code",
   "execution_count": null,
   "metadata": {},
   "outputs": [],
   "source": [
    "#plt.figure()\n",
    "#plt.xlabel('X axis')\n",
    "#plt.ylabel('Y axis')\n",
    "#plt.title('Plot of three data sets')\n",
    "#plt.scatter(x, w, c='red', s=25, marker='s')\n",
    "#plt.scatter(x, y, c='blue', s=50, marker='^')\n",
    "#plt.scatter(x, z, c='purple', s=100, marker='+')\n",
    "#plt.show()\n",
    "\n",
    "f, ax = plt.subplots()\n",
    "ax.set_xlabel('X axis')\n",
    "ax.set_ylabel('Y axis')\n",
    "ax.set_title('Plot of three data sets')\n",
    "ax.scatter(x, w, c='red', s=25, marker='s')\n",
    "ax.scatter(x, y, c='blue', s=50, marker='^')\n",
    "ax.scatter(x, z, c='purple', s=100, marker='+')\n",
    "plt.show()"
   ]
  },
  {
   "cell_type": "markdown",
   "metadata": {},
   "source": [
    "Reasonable bounds for the axes are chosen based on the range of data values, but we can manually set using xlim and ylim"
   ]
  },
  {
   "cell_type": "code",
   "execution_count": null,
   "metadata": {},
   "outputs": [],
   "source": [
    "#plt.figure()\n",
    "#plt.xlabel('X axis')\n",
    "#plt.ylabel('Y axis')\n",
    "#plt.title('Plot of three data sets')\n",
    "#plt.xlim(-0.5, 15)\n",
    "#plt.ylim(-5, 150)\n",
    "#plt.scatter(x, w, c='red', s=25, marker='s')\n",
    "#plt.scatter(x, y, c='blue', s=50, marker='^')\n",
    "#plt.scatter(x, z, c='purple', s=100, marker='+')\n",
    "#plt.show()\n",
    "\n",
    "f, ax = plt.subplots()\n",
    "ax.set_xlabel('X axis')\n",
    "ax.set_ylabel('Y axis')\n",
    "ax.set_title('Plot of three data sets')\n",
    "#ax.set_xlim(-0.5, 15)\n",
    "ax.set_ylim(-5, 150)\n",
    "ax.scatter(x, w, c='red', s=25, marker='s')\n",
    "ax.scatter(x, y, c='blue', s=50, marker='^')\n",
    "ax.scatter(x, z, c='purple', s=100, marker='+')\n",
    "plt.show()"
   ]
  },
  {
   "cell_type": "markdown",
   "metadata": {},
   "source": [
    "By default, we get linear scales for the x and y axes. We can also choose log axes, with an optional base (10 by default) using the xscale and yscale methods."
   ]
  },
  {
   "cell_type": "code",
   "execution_count": null,
   "metadata": {},
   "outputs": [],
   "source": [
    "#plt.figure()\n",
    "#plt.xlabel('X axis')\n",
    "#plt.ylabel('Y axis')\n",
    "#plt.title('Plot of three data sets')\n",
    "#plt.yscale('log')\n",
    "#plt.xscale('log', basex=2)\n",
    "#plt.scatter(x, w, c='red', s=25, marker='s')\n",
    "#plt.scatter(x, y, c='blue', s=50, marker='^')\n",
    "#plt.scatter(x, z, c='purple', s=100, marker='+')\n",
    "#plt.show()\n",
    "\n",
    "f, ax = plt.subplots()\n",
    "ax.set_xlabel('X axis')\n",
    "ax.set_ylabel('Y axis')\n",
    "ax.set_title('Plot of three data sets')\n",
    "ax.set_yscale('log')\n",
    "ax.set_xscale('log', basex=2)\n",
    "ax.scatter(x, w, c='red', s=25, marker='s')\n",
    "ax.scatter(x, y, c='blue', s=50, marker='^')\n",
    "ax.scatter(x, z, c='purple', s=100, marker='+')\n",
    "plt.show()"
   ]
  },
  {
   "cell_type": "markdown",
   "metadata": {},
   "source": [
    "Let's go back to our linear scales and default axis limits and add a legend to the plot. Note that we had to modify the calls to scatter to set labels for the data. \n",
    "\n",
    "By default, the legend will be placed in the \"best\" location so as to not interfere with the plot, no title is given and a frame is placed around the legend. None of these are required and we can call without any arguments."
   ]
  },
  {
   "cell_type": "code",
   "execution_count": null,
   "metadata": {},
   "outputs": [],
   "source": [
    "#plt.figure()\n",
    "#plt.xlabel('X axis')\n",
    "#plt.ylabel('Y axis')\n",
    "#plt.title('Plot of three data sets')\n",
    "#plt.scatter(x, w, c='red', s=25, marker='s', label='x^1.5')\n",
    "#plt.scatter(x, y, c='blue', s=50, marker='^', label='x^1.75')\n",
    "#plt.scatter(x, z, c='purple', s=100, marker='+', label='x^2')\n",
    "#plt.legend(title='Plot legend', frameon=False)\n",
    "#plt.show()\n",
    "\n",
    "f, ax = plt.subplots()\n",
    "ax.set_xlabel('X axis')\n",
    "ax.set_ylabel('Y axis')\n",
    "ax.set_title('Plot of three data sets')\n",
    "ax.scatter(x, w, c='red', s=25, marker='s', label='x^1.5')\n",
    "ax.scatter(x, y, c='blue', s=50, marker='^', label='x^1.75')\n",
    "ax.scatter(x, z, c='purple', s=100, marker='+', label='x^2')\n",
    "ax.legend(title='Plot legend', frameon=False)\n",
    "plt.show()"
   ]
  },
  {
   "cell_type": "markdown",
   "metadata": {},
   "source": [
    "### How do I save my figure?"
   ]
  },
  {
   "cell_type": "markdown",
   "metadata": {},
   "source": [
    "There are two easy ways to save your figure for later use. One is to do this programmatically using the `plt.savefig()` method, which will write the image to a file (by default in the same directory where you're running the notebook). The other is to either right click the image (Windows) or Control-Return (Mac) to save locally."
   ]
  },
  {
   "cell_type": "code",
   "execution_count": null,
   "metadata": {},
   "outputs": [],
   "source": [
    "f, ax = plt.subplots()\n",
    "ax.scatter(x,w)\n",
    "plt.savefig('Simple figure.png') # Note that filename is quoted and extension given\n",
    "plt.show()"
   ]
  },
  {
   "cell_type": "markdown",
   "metadata": {},
   "source": [
    "## Line plots using the plt.plot method"
   ]
  },
  {
   "cell_type": "markdown",
   "metadata": {},
   "source": [
    "Although they have many similarities, scatter plots and line plots have some important differences. The former allow greater control over the marker properties, while the latter can contain lines that join the data points. In its simplest form, plt.plot takes a pair of x,y sequences"
   ]
  },
  {
   "cell_type": "code",
   "execution_count": null,
   "metadata": {},
   "outputs": [],
   "source": [
    "#plt.figure()\n",
    "#plt.plot(x, w)\n",
    "#plt.show()\n",
    "\n",
    "f, ax = plt.subplots()\n",
    "ax.plot(x, w)\n",
    "plt.show()"
   ]
  },
  {
   "cell_type": "markdown",
   "metadata": {},
   "source": [
    "Any number of x,y pairs can be displayed on the same plot"
   ]
  },
  {
   "cell_type": "code",
   "execution_count": null,
   "metadata": {},
   "outputs": [],
   "source": [
    "#plt.figure()\n",
    "#plt.plot(x, w, x, y, x, z)\n",
    "#plt.show()\n",
    "\n",
    "f, ax = plt.subplots()\n",
    "plt.plot(x, w, x, y, x, z)\n",
    "plt.show()"
   ]
  },
  {
   "cell_type": "markdown",
   "metadata": {},
   "source": [
    "The line color, marker shape and line style can be set by passing an additional string argument for each x,y pair of the form \"{color abbreviation}{marker abbreviation}{line style}\". A full list of abbreviations and styles can be found at the plt.plot documentation."
   ]
  },
  {
   "cell_type": "code",
   "execution_count": null,
   "metadata": {},
   "outputs": [],
   "source": [
    "#plt.figure()\n",
    "#plt.plot(x, w, 'ro-', x, y, 'bs:', x, z, 'g^--')\n",
    "#plt.show()\n",
    "\n",
    "f, ax = plt.subplots()\n",
    "ax.plot(x, w, 'ro-', x, y, 'bs:', x, z, 'g^--')\n",
    "plt.show()"
   ]
  },
  {
   "cell_type": "markdown",
   "metadata": {},
   "source": [
    "## A brief digression - LaTeX formatting"
   ]
  },
  {
   "cell_type": "markdown",
   "metadata": {},
   "source": [
    "Matplotlib recognizes a subset of LaTeX syntax, so you can include Greek letters, superscripts, subscripts and other math formatting features in the plot labels. Escape to LaTeX mode by placing between dollar signs."
   ]
  },
  {
   "cell_type": "code",
   "execution_count": null,
   "metadata": {},
   "outputs": [],
   "source": [
    "#plt.figure()\n",
    "#plt.xlabel('X axis ($\\Omega$)')\n",
    "#plt.ylabel('Y axis ($\\lambda$)')\n",
    "#plt.title('Plot of three data sets')\n",
    "#plt.scatter(x, w, c='red', s=25, marker='s', label='$x^{1.5}$')\n",
    "#plt.scatter(x, y, c='blue', s=50, marker='^', label='$x^{1.75}$')\n",
    "#plt.scatter(x, z, c='purple', s=100, marker='+', label='$x^2$')\n",
    "#plt.legend(title='Plot legend', frameon=False)\n",
    "#plt.show()\n",
    "\n",
    "f, ax = plt.subplots()\n",
    "ax.set_xlabel('X axis ($\\Omega$)')\n",
    "ax.set_ylabel('Y axis ($\\lambda$)')\n",
    "ax.set_title('Plot of three data sets')\n",
    "ax.scatter(x, w, c='red', s=25, marker='s', label='$x^{1.5}$')\n",
    "ax.scatter(x, y, c='blue', s=50, marker='^', label='$x^{1.75}$')\n",
    "ax.scatter(x, z, c='purple', s=100, marker='+', label='$x^2$')\n",
    "ax.legend(title='Plot legend', frameon=False)\n",
    "plt.show()"
   ]
  },
  {
   "cell_type": "markdown",
   "metadata": {},
   "source": [
    "## Bar charts"
   ]
  },
  {
   "cell_type": "markdown",
   "metadata": {},
   "source": [
    "The Matplotlib bar chart method behaves much like the other plotting methods we've seen so far. In the example below, we show the results for hot dog eating contest. We pass a list of colors to differentiate nationalities (USA vs. Costa Rica)"
   ]
  },
  {
   "cell_type": "code",
   "execution_count": null,
   "metadata": {},
   "outputs": [],
   "source": [
    "people = ['Bob', 'Jorge', 'Esteban', 'Mariano', 'Mahidhar']\n",
    "x_pos = np.arange(len(people))\n",
    "hot_dogs = [10, 12, 17, 8, 14]\n",
    "colors = ['blue', 'red', 'red', 'red', 'blue']\n",
    "\n",
    "#plt.figure()\n",
    "#plt.bar(x_pos, hot_dogs, align='center', color=colors)\n",
    "#plt.xticks(x_pos, people)\n",
    "#plt.ylabel('# hot dogs eaten')\n",
    "#plt.title('Hot dog eating contest results')\n",
    "#plt.show()\n",
    "\n",
    "f, ax = plt.subplots()\n",
    "ax.bar(x_pos, hot_dogs, align='center', color=colors)\n",
    "ax.set_xticks(x_pos)\n",
    "ax.set_xticklabels(people)\n",
    "ax.set_ylabel('# hot dogs eaten')\n",
    "ax.set_title('Hot dog eating contest results')\n",
    "plt.show()"
   ]
  },
  {
   "cell_type": "markdown",
   "metadata": {},
   "source": [
    "Plotting multiple data series on the same figure is similar to what we did for scatter plots using multiple calls to the plt.bar method.\n",
    "\n",
    "In this new plot, we added one more feature and set an edge color for the bars. Due to a bug in older versions of matplotlib, by default the edge was only drawn for the first bar unless we pass a list of values to edgecolor."
   ]
  },
  {
   "cell_type": "code",
   "execution_count": null,
   "metadata": {},
   "outputs": [],
   "source": [
    "people = ['Bob', 'Jorge', 'Esteban', 'Mariano', 'Mahidhar']\n",
    "x_pos = np.arange(len(people))\n",
    "hot_dogs = [10, 12, 17, 8, 14]\n",
    "pies = [2, 7, 3, 5, 8]\n",
    "\n",
    "#plt.figure()\n",
    "#plt.bar(x_pos, hot_dogs, align='center', \n",
    "#        color='red', label='hot dogs', edgecolor=['black']*len(people))\n",
    "#plt.bar(x_pos, pies,     align='center', \n",
    "#        color='blue', label='pies', edgecolor=['black']*len(people))\n",
    "#plt.xticks(x_pos, people)\n",
    "#plt.ylabel('# eaten')\n",
    "#plt.title('Eating contest results')\n",
    "#plt.legend(frameon=False, loc='upper left')\n",
    "#plt.show()\n",
    "\n",
    "f, ax = plt.subplots()\n",
    "ax.bar(x_pos, hot_dogs, align='center', \n",
    "       color='red', label='hot dogs', edgecolor=['black']*len(people))\n",
    "ax.bar(x_pos, pies,     align='center', \n",
    "       color='blue', label='pies', edgecolor=['black']*len(people))\n",
    "ax.set_xticks(x_pos)\n",
    "ax.set_xticklabels(people)\n",
    "ax.set_ylabel('# eaten')\n",
    "ax.set_title('Eating contest results')\n",
    "ax.legend(frameon=False, loc='upper left')\n",
    "plt.show()"
   ]
  },
  {
   "cell_type": "markdown",
   "metadata": {},
   "source": [
    "This previous figure turned out fine since every contestant ate more hot dogs (first set plotted) than pies (second set plotted). If one of the contestants ate more pies than hot dogs, the \"hot dogs\" bar would be completely obscured by the \"pies\" bar. To avoid this problem, we can change the widths of the bars and offset their locations."
   ]
  },
  {
   "cell_type": "code",
   "execution_count": null,
   "metadata": {},
   "outputs": [],
   "source": [
    "people = ['Bob', 'Jorge', 'Esteban', 'Mariano', 'Mahidhar']\n",
    "x_pos = np.arange(len(people))\n",
    "hot_dogs = [10, 12, 17, 8, 14]\n",
    "pies = [2, 7, 3, 5, 8]\n",
    "\n",
    "#plt.figure()\n",
    "#plt.bar(x_pos - 0.2, hot_dogs, width=0.35, align='center', \n",
    "#        color='red', label='hot dogs', edgecolor=['black']*len(people))\n",
    "#plt.bar(x_pos + 0.2, pies,     width=0.35, align='center', \n",
    "#        color='blue', label='pies', edgecolor=['black']*len(people))\n",
    "#plt.xticks(x_pos, people)\n",
    "#plt.ylabel('# eaten')\n",
    "#plt.title('Eating contest results')\n",
    "#plt.legend(frameon=False, loc='upper left')\n",
    "#plt.show()\n",
    "\n",
    "f, ax = plt.subplots()\n",
    "ax.bar(x_pos - 0.2, hot_dogs, width=0.35, align='center', \n",
    "       color='red', label='hot dogs', edgecolor=['black']*len(people))\n",
    "ax.bar(x_pos + 0.2, pies,     width=0.35, align='center', \n",
    "       color='blue', label='pies', edgecolor=['black']*len(people))\n",
    "ax.set_xticks(x_pos)\n",
    "ax.set_xticklabels(people)\n",
    "ax.set_ylabel('# eaten')\n",
    "ax.set_title('Eating contest results')\n",
    "ax.legend(frameon=False, loc='upper left')\n",
    "plt.show()"
   ]
  },
  {
   "cell_type": "markdown",
   "metadata": {},
   "source": [
    "Let's introduce one more advanced features. Imagine that the tick labels are so long that they would overrun each other if rendered horizontally. To avoid that, we can rotate each of the tick labels by 45 degrees before generating the figure.\n",
    "\n",
    "Note that to do this using the basic interface, we need get the current axis using the plt.gca method. In my opinion, it's easier to just work directly with the Axes class from the beginning."
   ]
  },
  {
   "cell_type": "code",
   "execution_count": null,
   "metadata": {},
   "outputs": [],
   "source": [
    "people = ['Bob San Diego', 'Jorge Costa Rica', 'Esteban Costa Rica', \n",
    "          'Mariano Costa Rica', 'Mahidhar San Diego']\n",
    "\n",
    "#plt.figure()\n",
    "#plt.bar(x_pos - 0.2, hot_dogs, width=0.35, align='center', \n",
    "#        color='red', label='hot dogs', edgecolor='black')\n",
    "#plt.bar(x_pos + 0.2, pies,     width=0.35, align='center', \n",
    "#        color='blue', label='pies', edgecolor='black')\n",
    "#plt.xticks(x_pos, people)\n",
    "#plt.gca().set_xticklabels(people)\n",
    "#for tick in plt.gca().get_xticklabels():\n",
    "#    tick.set_rotation(45)\n",
    "#plt.ylabel('# eaten')\n",
    "#plt.title('Eating contest results')\n",
    "#plt.legend(frameon=False, loc='upper left')\n",
    "#plt.show()\n",
    "\n",
    "f, ax = plt.subplots()\n",
    "ax.bar(x_pos - 0.2, hot_dogs, width=0.35, align='center', \n",
    "       color='red', label='hot dogs', edgecolor=['black']*len(people))\n",
    "ax.bar(x_pos + 0.2, pies,     width=0.35, align='center', \n",
    "       color='blue', label='pies', edgecolor=['black']*len(people))\n",
    "ax.set_xticks(x_pos)\n",
    "ax.set_xticklabels(people)\n",
    "for tick in ax.get_xticklabels():\n",
    "    tick.set_rotation(45)\n",
    "ax.set_ylabel('# eaten')\n",
    "ax.set_title('Eating contest results')\n",
    "ax.legend(frameon=False, loc='upper left')\n",
    "plt.show()"
   ]
  },
  {
   "cell_type": "markdown",
   "metadata": {
    "collapsed": true
   },
   "source": [
    "## Histograms"
   ]
  },
  {
   "cell_type": "markdown",
   "metadata": {},
   "source": [
    "If you followed my NumPy tutorial, you'll recall that we generated a histogram using NumPy's histogram method and then plotted as a line graph. A better way is to use pyplot's hist method, which both generates the histogram data from the input data and renders."
   ]
  },
  {
   "cell_type": "code",
   "execution_count": null,
   "metadata": {},
   "outputs": [],
   "source": [
    "# Build two vectors of 10000 and 5000 normal deviates, respectively, with variance 0.5^2 and mean 2\n",
    "import numpy as np\n",
    "mu, sigma = 2, 0.5\n",
    "np.random.seed(1234)\n",
    "v1 = np.random.normal(mu,sigma,10000)\n",
    "v2 = np.random.normal(mu,sigma,5000)"
   ]
  },
  {
   "cell_type": "code",
   "execution_count": null,
   "metadata": {},
   "outputs": [],
   "source": [
    "#plt.figure()\n",
    "#plt.hist(v1, bins=50, cumulative=True, edgecolor='black', color='gray')\n",
    "#plt.show()\n",
    "\n",
    "f, ax = plt.subplots()\n",
    "ax.hist(v1, bins=50, cumulative=True, edgecolor='black', color='gray')\n",
    "plt.show()"
   ]
  },
  {
   "cell_type": "markdown",
   "metadata": {},
   "source": [
    "We can display multiple histograms on the same figure. Instead of passing a single data set, we use a list of data sets. Colors and other attributes can also be passed as lists of the same length. In the following example, we plot two data sets."
   ]
  },
  {
   "cell_type": "code",
   "execution_count": null,
   "metadata": {},
   "outputs": [],
   "source": [
    "#plt.figure()\n",
    "#plt.hist([v1,v2], color=['green', 'purple'], bins=15)\n",
    "#plt.show()\n",
    "\n",
    "f, ax = plt.subplots()\n",
    "ax.hist([v1,v2], color=['green', 'purple'], bins=15, edgecolor='black')\n",
    "plt.show()"
   ]
  },
  {
   "cell_type": "markdown",
   "metadata": {},
   "source": [
    "Like most pyplot methods, plt.hist provide many options, including stacked bars (height is the sum of data sets) and cumulative plotting (each bin is the running sum of the previous bins)."
   ]
  },
  {
   "cell_type": "code",
   "execution_count": null,
   "metadata": {},
   "outputs": [],
   "source": [
    "#plt.figure()\n",
    "#plt.hist([v1,v2], color=['blue', 'purple'], cumulative=True, histtype='barstacked', bins=50)\n",
    "#plt.show()\n",
    "\n",
    "f, ax = plt.subplots()\n",
    "plt.hist([v1,v2], color=['blue', 'purple'], cumulative=True, histtype='barstacked', bins=50)\n",
    "plt.show()"
   ]
  },
  {
   "cell_type": "markdown",
   "metadata": {},
   "source": [
    "## A brief digression - colors"
   ]
  },
  {
   "cell_type": "markdown",
   "metadata": {},
   "source": [
    "Until now, we've worked with the basic colors (red, blue, green, purple, etc.), but Matplotlib allows colors to be specified in a variety of formats including hex RGB strings (e.g. #c79fef, $ffd1df) or the xkcd color survey format (e.g. 'xkcd:dark purple' and 'xkcd:aquamarine'. For more details see https://matplotlib.org/api/colors_api.html and https://xkcd.com/color/rgb/"
   ]
  },
  {
   "cell_type": "code",
   "execution_count": null,
   "metadata": {},
   "outputs": [],
   "source": [
    "#plt.figure()\n",
    "#plt.hist([v1,v2], color=['#c79fef', '#ffd1df'], cumulative=True, histtype='barstacked', bins=50)\n",
    "#plt.show()\n",
    "\n",
    "f, ax = plt.subplots()\n",
    "plt.hist([v1,v2], color=['#c79fef', '#ffd1df'], cumulative=True, histtype='barstacked', bins=50)\n",
    "plt.show()"
   ]
  },
  {
   "cell_type": "code",
   "execution_count": null,
   "metadata": {},
   "outputs": [],
   "source": [
    "#plt.figure()\n",
    "#plt.hist([v1,v2], color=['xkcd:dark purple', 'xkcd:aquamarine'], cumulative=True, histtype='barstacked', bins=50)\n",
    "#plt.show()\n",
    "\n",
    "f, ax = plt.subplots()\n",
    "ax.hist([v1,v2], color=['xkcd:dark purple', 'xkcd:aquamarine'], cumulative=True, histtype='barstacked', bins=50)\n",
    "plt.show()"
   ]
  },
  {
   "cell_type": "markdown",
   "metadata": {},
   "source": [
    "## Other chart types"
   ]
  },
  {
   "cell_type": "markdown",
   "metadata": {},
   "source": [
    "We've touched on some of the most important figure types, but we've only scratched the surface. We show an example of a pie chart below and refer you to the the Matplotlib gallery for more options https://matplotlib.org/gallery.html"
   ]
  },
  {
   "cell_type": "code",
   "execution_count": null,
   "metadata": {},
   "outputs": [],
   "source": [
    "populations = [39, 27, 20, 19, 12]\n",
    "states = ['California', 'Texas', 'Florida', 'New York', 'Illinois']\n",
    "explodes = [0.1, 0, 0, 0, 0]\n",
    "colors = ['blue', 'yellow', 'orange', 'green', 'brown']\n",
    "\n",
    "#plt.figure()\n",
    "#plt.pie(values, labels=states, explode=explodes, colors=colors, shadow=True)\n",
    "#plt.gca().axis('equal')\n",
    "#plt.show()\n",
    "\n",
    "f, ax = plt.subplots()\n",
    "ax.pie(populations, labels=states, explode=explodes, colors=colors, shadow=True)\n",
    "ax.axis('equal')\n",
    "plt.show()"
   ]
  },
  {
   "cell_type": "markdown",
   "metadata": {},
   "source": [
    "A pie chart can be turned into a donut chart by adding a white circle to the center of the plot. As a finishing touch, added a second circle to provide a border"
   ]
  },
  {
   "cell_type": "code",
   "execution_count": null,
   "metadata": {},
   "outputs": [],
   "source": [
    "populations = [39, 27, 20, 19, 12]\n",
    "states = ['California', 'Texas', 'Florida', 'New York', 'Illinois']\n",
    "colors = ['blue', 'yellow', 'orange', 'green', 'brown']\n",
    "\n",
    "f, ax = plt.subplots()\n",
    "ax.pie(populations, labels=states, colors=colors, shadow=False)\n",
    "ax.axis('equal')\n",
    "\n",
    "#draw a circle at the center of pie to make it look like a donut\n",
    "centre_circle = plt.Circle((0,0), 0.6, color='black', fc='white', linewidth=1.0)\n",
    "fig = plt.gcf()\n",
    "fig.gca().add_artist(centre_circle)\n",
    "\n",
    "#draw a circle at the edge of pie to provide border (don't see way to do this with pie function)\n",
    "outer_circle = plt.Circle((0,0), 1.0, color='black', fill=False, linewidth=1.0)\n",
    "fig = plt.gcf()\n",
    "fig.gca().add_artist(outer_circle)\n",
    "\n",
    "plt.show()"
   ]
  },
  {
   "cell_type": "markdown",
   "metadata": {},
   "source": [
    "## Subplots"
   ]
  },
  {
   "cell_type": "markdown",
   "metadata": {},
   "source": [
    "One of the most useful features of Matplotlib is the ability to create complex figures containing multiple subplots. There are several ways to manage subplots, but I think that the syntax shown below is the most straightforward.\n",
    "\n",
    "We start with a call to the plt.subplots function, which accepts the number of rows and columns defining the grid and returns a figure object and an axes object or an array of axes objects."
   ]
  },
  {
   "cell_type": "code",
   "execution_count": null,
   "metadata": {},
   "outputs": [],
   "source": [
    "# Define/redefine some data sets\n",
    "x = [x for x in range(1,11)]\n",
    "v = [x**1.25 for x in range(1,11)]\n",
    "w = [x**1.5 for x in range(1,11)]\n",
    "y = [x**1.75 for x in range(1,11)]\n",
    "z = [x**2 for x in range(1,11)]"
   ]
  },
  {
   "cell_type": "markdown",
   "metadata": {},
   "source": [
    "In the first example, we'll plot a pair of figures side. Note that each subfigure has its own scale. "
   ]
  },
  {
   "cell_type": "code",
   "execution_count": null,
   "metadata": {},
   "outputs": [],
   "source": [
    "f, (ax1, ax2) = plt.subplots(1,2)\n",
    "ax1.scatter(x, v, color='blue', marker='s')\n",
    "ax2.scatter(x, w, color='red',  marker='o')\n",
    "plt.show()"
   ]
  },
  {
   "cell_type": "markdown",
   "metadata": {},
   "source": [
    "We can pass additional arguments to plt.subplots to control the figure size, label the y-axis for the left plot and share the y-axis so that only the left subplot has the scale and the same scale is used for both. We'll also add legends for the two subplots"
   ]
  },
  {
   "cell_type": "code",
   "execution_count": null,
   "metadata": {},
   "outputs": [],
   "source": [
    "f, (ax1, ax2) = plt.subplots(1, 2, sharey=True, figsize=(6,5))\n",
    "\n",
    "ax1.scatter(x, v, color='blue', marker='s', label='$x^{1.25}$')\n",
    "ax1.set_ylabel('y axis')\n",
    "ax1.legend(loc='upper left', frameon=False)\n",
    "\n",
    "ax2.scatter(x, w, color='red',  marker='o', label='$x^{1.5}$')\n",
    "ax2.legend(loc='upper left', frameon=False)\n",
    "\n",
    "plt.show()"
   ]
  },
  {
   "cell_type": "code",
   "execution_count": null,
   "metadata": {},
   "outputs": [],
   "source": [
    "f, ((ax1, ax2), (ax3, ax4)) = plt.subplots(2, 2, figsize=(6,6), sharex=True, sharey=True)\n",
    "ax1.scatter(x, v, label='$x^{1.25}$')\n",
    "ax1.legend(loc='upper left', frameon=False)\n",
    "\n",
    "ax2.scatter(x, w, label='$x^{1.5}$')\n",
    "ax2.legend(loc='upper left', frameon=False)\n",
    "\n",
    "ax3.scatter(x, y, label='$x^{1.75}$')\n",
    "ax3.legend(loc='upper left', frameon=False)\n",
    "\n",
    "ax4.scatter(x, z, label='$x^{2.0}$')\n",
    "ax4.legend(loc='upper left', frameon=False)\n",
    "\n",
    "f.subplots_adjust(hspace=0.1, wspace=0.1)\n",
    "f.suptitle('2x2 array of subplots')\n",
    "\n",
    "plt.show()"
   ]
  },
  {
   "cell_type": "code",
   "execution_count": null,
   "metadata": {},
   "outputs": [],
   "source": []
  }
 ],
 "metadata": {
  "kernelspec": {
   "display_name": "Python 3",
   "language": "python",
   "name": "python3"
  },
  "language_info": {
   "codemirror_mode": {
    "name": "ipython",
    "version": 3
   },
   "file_extension": ".py",
   "mimetype": "text/x-python",
   "name": "python",
   "nbconvert_exporter": "python",
   "pygments_lexer": "ipython3",
   "version": "3.6.4"
  }
 },
 "nbformat": 4,
 "nbformat_minor": 2
}
