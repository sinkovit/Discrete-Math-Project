{
 "cells": [
  {
   "cell_type": "markdown",
   "metadata": {},
   "source": [
    "# Calculating recursions"
   ]
  },
  {
   "cell_type": "markdown",
   "metadata": {},
   "source": [
    "The Fibonacci sequence, and in fact any linear recurrence sequence with constant coefficients, has a closed form solution - an explicit formula that does not require calculating all the previous terms in the series. Unfortunately, these can be extremely difficult to derive and generally involve advanced mathematics way beyond what can be expected at the high school math level.\n",
    "\n",
    "We show here how to generate the Fibonacci sequence starting with the initial conditions and recursion relation. We'll use the convention where the sequence starts with the term $F_0 = 0$. This is also convenient from a programming perspective since Python lists begin with element 0."
   ]
  },
  {
   "cell_type": "code",
   "execution_count": null,
   "metadata": {},
   "outputs": [],
   "source": [
    "# Initializing sequence\n",
    "F0, F1, F2 = 0, 1, 1\n",
    "F = [F0, F1, F2]\n",
    "\n",
    "# Specifying the highest term\n",
    "nmax = 500 #10\n",
    "\n",
    "for i in range(3,nmax+1):\n",
    "    Fnext = F[i-1] + F[i-2]\n",
    "    F.append(Fnext)"
   ]
  },
  {
   "cell_type": "markdown",
   "metadata": {},
   "source": [
    "We can now either print out the entire sequence or just the terms of interest."
   ]
  },
  {
   "cell_type": "code",
   "execution_count": null,
   "metadata": {},
   "outputs": [],
   "source": [
    "print('i Fi')\n",
    "for i,x in enumerate(F):\n",
    "    print(i,x)"
   ]
  },
  {
   "cell_type": "code",
   "execution_count": null,
   "metadata": {},
   "outputs": [],
   "source": [
    "print(F[nmax])"
   ]
  },
  {
   "cell_type": "markdown",
   "metadata": {},
   "source": [
    "## A quick aside about Python and integers"
   ]
  },
  {
   "cell_type": "markdown",
   "metadata": {},
   "source": [
    "In many programming languages, integers are limited in size so that they can be represented using four or eight bytes. Python allows integers of arbitrary size, but keep in mind that working with these large integers can be very inefficient. Try running the previous exercise with larger values of nmax. $F_{500}$ is much larger than the number of all the protons and neutrons in the entire universe."
   ]
  },
  {
   "cell_type": "markdown",
   "metadata": {},
   "source": [
    "## Making the code more general"
   ]
  },
  {
   "cell_type": "markdown",
   "metadata": {},
   "source": [
    "As a first step toward making the code more general, we can create a function that accepts the number of terms in the sequence we want to calculate."
   ]
  },
  {
   "cell_type": "code",
   "execution_count": null,
   "metadata": {},
   "outputs": [],
   "source": [
    "def fibseq(nmax):\n",
    "    F0, F1, F2 = 0, 1, 1\n",
    "    F = [F0, F1, F2]\n",
    "    \n",
    "    if nmax < 0:\n",
    "        return\n",
    "    elif nmax == 0:\n",
    "        return([F0])\n",
    "    elif nmax == 1:\n",
    "        return([F0, F1])\n",
    "    \n",
    "    for i in range(3,nmax+1):\n",
    "        Fnext = F[i-1] + F[i-2]\n",
    "        F.append(Fnext)\n",
    "    return(F)"
   ]
  },
  {
   "cell_type": "code",
   "execution_count": null,
   "metadata": {},
   "outputs": [],
   "source": [
    "myfib = fibseq(10)\n",
    "print(myfib)"
   ]
  },
  {
   "cell_type": "markdown",
   "metadata": {},
   "source": [
    "We can also generalize to the case where we can specify the starting points"
   ]
  },
  {
   "cell_type": "code",
   "execution_count": null,
   "metadata": {},
   "outputs": [],
   "source": [
    "def genfibseq(nmax, F1, F2):\n",
    "    F0 = 0\n",
    "    F = [F0, F1, F2]\n",
    "    \n",
    "    if nmax < 0:\n",
    "        return\n",
    "    elif nmax == 0:\n",
    "        return([F0])\n",
    "    elif nmax == 1:\n",
    "        return([F0, F1])\n",
    "    \n",
    "    for i in range(3,nmax+1):\n",
    "        Fnext = F[i-1] + F[i-2]\n",
    "        F.append(Fnext)\n",
    "    return(F)"
   ]
  },
  {
   "cell_type": "code",
   "execution_count": null,
   "metadata": {},
   "outputs": [],
   "source": [
    "myfib = genfibseq(10, 1, 3)\n",
    "print(myfib)"
   ]
  },
  {
   "cell_type": "markdown",
   "metadata": {},
   "source": [
    "Going one step further, we can specify the coefficients to allow values other than one, for example $F_n = 2F_{n-1} + 3F_{n-2}$"
   ]
  },
  {
   "cell_type": "code",
   "execution_count": null,
   "metadata": {},
   "outputs": [],
   "source": [
    "def genfibseq(nmax, F1, F2, c1, c2):\n",
    "    F0 = 0\n",
    "    F = [F0, F1, F2]\n",
    "    \n",
    "    if nmax < 0:\n",
    "        return\n",
    "    elif nmax == 0:\n",
    "        return([F0])\n",
    "    elif nmax == 1:\n",
    "        return([F0, F1])\n",
    "\n",
    "    for i in range(3,nmax+1):\n",
    "        Fnext = c1*F[i-1] + c2*F[i-2]\n",
    "        F.append(Fnext)\n",
    "    return(F)"
   ]
  },
  {
   "cell_type": "code",
   "execution_count": null,
   "metadata": {},
   "outputs": [],
   "source": [
    "myfib = genfibseq(10, 1, 2, 2, 3)\n",
    "print(myfib)"
   ]
  },
  {
   "cell_type": "markdown",
   "metadata": {},
   "source": [
    "And to complete the exercise, we can provide defaults so that we get the standard Fibonacci series if no arguments are provided."
   ]
  },
  {
   "cell_type": "code",
   "execution_count": null,
   "metadata": {},
   "outputs": [],
   "source": [
    "def genfibseq(nmax, F1=1, F2=1, c1=1, c2=1):\n",
    "    F0 = 0\n",
    "    F = [F0, F1, F2]\n",
    "    \n",
    "    if nmax < 0:\n",
    "        return\n",
    "    elif nmax == 0:\n",
    "        return([F0])\n",
    "    elif nmax == 1:\n",
    "        return([F0, F1])\n",
    "    \n",
    "    for i in range(3,nmax+1):\n",
    "        Fnext = c1*F[i-1] + c2*F[i-2]\n",
    "        F.append(Fnext)\n",
    "    return(F)"
   ]
  },
  {
   "cell_type": "code",
   "execution_count": null,
   "metadata": {},
   "outputs": [],
   "source": [
    "# Standard Fibonacci sequence\n",
    "myfib = genfibseq(10)\n",
    "print(myfib)\n",
    "\n",
    "# Modified to use different starting values\n",
    "myfib = genfibseq(10, F1=1, F2=2)\n",
    "print(myfib)\n",
    "\n",
    "# And further modified to use different coefficients\n",
    "myfib = genfibseq(10, F1=1, F2=2, c1=2, c2=3)\n",
    "print(myfib)"
   ]
  },
  {
   "cell_type": "markdown",
   "metadata": {},
   "source": [
    "## Exercise"
   ]
  },
  {
   "cell_type": "markdown",
   "metadata": {},
   "source": [
    "Some of the exercises in the Discrete Math Pre-Collegiate (DMPC) curriculum lead to recurrence relations that depend on the previous three terms. Generalize the function definition above to handle this case. As a bonus exercise, try to create a single function that will work for relations based on the previous two *or* three terms. And as a double bonus, generalize to any number of terms."
   ]
  },
  {
   "cell_type": "code",
   "execution_count": null,
   "metadata": {},
   "outputs": [],
   "source": [
    "def genfibseq(nmax, Finit=[1,1], coeff=False):\n",
    "    F = [0] + Finit\n",
    "    if not coeff:\n",
    "        coeff = [1]*3\n",
    "    for i in range(len(Finit)+1, nmax+1):\n",
    "        Fnext = 0\n",
    "        for j,c in enumerate(coeff):\n",
    "            Fnext += c*F[i-j-1]\n",
    "        F.append(Fnext)\n",
    "    F.pop(0)\n",
    "    return(F)"
   ]
  },
  {
   "cell_type": "code",
   "execution_count": null,
   "metadata": {},
   "outputs": [],
   "source": [
    "myfib = genfibseq(10)\n",
    "print(myfib)\n",
    "\n",
    "myfib = genfibseq(10, Finit=[1,2])\n",
    "print(myfib)\n",
    "\n",
    "myfib = genfibseq(10, Finit=[1,2,4])\n",
    "print(myfib)\n",
    "\n",
    "myfib = genfibseq(10, Finit=[1,2], coeff=[2,3])\n",
    "print(myfib)"
   ]
  },
  {
   "cell_type": "code",
   "execution_count": null,
   "metadata": {},
   "outputs": [],
   "source": []
  }
 ],
 "metadata": {
  "kernelspec": {
   "display_name": "Python 3",
   "language": "python",
   "name": "python3"
  },
  "language_info": {
   "codemirror_mode": {
    "name": "ipython",
    "version": 3
   },
   "file_extension": ".py",
   "mimetype": "text/x-python",
   "name": "python",
   "nbconvert_exporter": "python",
   "pygments_lexer": "ipython3",
   "version": "3.6.4"
  }
 },
 "nbformat": 4,
 "nbformat_minor": 2
}
