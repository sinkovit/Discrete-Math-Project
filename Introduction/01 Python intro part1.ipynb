{
 "cells": [
  {
   "cell_type": "markdown",
   "metadata": {},
   "source": [
    "# Python intro for HS math - part 1"
   ]
  },
  {
   "cell_type": "markdown",
   "metadata": {},
   "source": [
    "This is the first in a series of Notebooks to help HS math teachers and their students get started in programming with Python. While it is a (hopefully) gentle, general introduction to Python, it focuses mostly on those topics and language features that are most relevant for HS math and mathematical computing. No prior programming experience is required.\n",
    "\n",
    "In this notebook, we'll cover the following topics\n",
    "\n",
    "+ [Python overview and Jupyter notebooks](#python_overview)\n",
    "+ [Basic math](#math)\n",
    "+ [Variables](#vars)\n",
    "+ [Comments](#comments)\n",
    "+ [Booleans and logic](#bools)\n",
    "+ [Extending math functionality with NumPy](#numpy)\n",
    "+ [Strings](#strings)\n",
    "+ [Lists](#lists)\n",
    "+ [Sets](#sets)"
   ]
  },
  {
   "cell_type": "markdown",
   "metadata": {},
   "source": [
    "### Technical stuff"
   ]
  },
  {
   "cell_type": "markdown",
   "metadata": {},
   "source": [
    "Following the lead of the famous series of *X for Dummies* books, we'll point out technical materials that sometimes goes off on a tangent (but that's still worth knowing)."
   ]
  },
  {
   "cell_type": "markdown",
   "metadata": {},
   "source": [
    "## Why Python? <a id='python_overview'></a>"
   ]
  },
  {
   "cell_type": "markdown",
   "metadata": {},
   "source": [
    "Given the large number of programming languages (C/C++, Perl, Fortran, Java, Ruby, JavaScript, Swift, PHP and many others), why did we choose Python? While we are big fans of the language and our answers may be somewhat biased, the following ideas are generally accepted within the Python community.\n",
    "\n",
    "+ Python has an intuitive [syntax](https://github.com/sinkovit/Discrete-Math-Project/blob/master/Glossary.md#Syntax) that is easy to learn. As many programmers like to say, Python was designed to be readable by humans. This is apparent in many choices made by the creators of Python such as [delimiting](https://github.com/sinkovit/Discrete-Math-Project/blob/master/Glossary.md#Delimit) basic blocks using [whitespace](https://github.com/sinkovit/Discrete-Math-Project/blob/master/Glossary.md#Whitespace) and using simple keywords such as `and`, `or` and `not` rather than the more cryptic `&&`, `||` and `!` for constructing compound logical statements (don’t worry, we’ll define these concepts later).\n",
    "\n",
    "+ Python is used in the *real world*. Python programmers are widely sought after and students who understand Python have a marketable job skill.\n",
    "\n",
    "+ Python is an interpreted language. Simply put, this means that the code can be executed one statement or basic block at a time rather than having to first compile the entire program into an executable. Note that there are ways to compile Python code, but we don't need to get into them here.\n",
    "\n",
    "+ The Python developer community has created a large collection of modules and packages for tasks spanning everything from numerical computing to machine learning. There’s a very good chance that someone has already written code to tackle your problem.\n"
   ]
  },
  {
   "cell_type": "markdown",
   "metadata": {},
   "source": [
    "## A few words about Jupyter notebooks"
   ]
  },
  {
   "cell_type": "markdown",
   "metadata": {},
   "source": [
    "This introduction to Python was developed to be run as a Jupyter Notebook (formerly known as IPython Notebooks), which combines code, documentation, plots, results and math into a single package. Python does not have to be run in a Notebook, but this is a very convenient way to do interactive computing and the model is becoming increasingly popular.\n",
    "\n",
    "A Notebook is divided into cells, which can contain either *markdown* (text with basic formatting capabilities) or *code*. When writing a new cell, use the pulldown menu to choose between code and markdown - don't worry about the other options.\n",
    "\n",
    "Once a cell containing code is executed, the results will appear directly below the cell. There are several ways to run a cell.\n",
    "\n",
    "+ Shift+Return\n",
    "+ Click the \"Run\" button in the tool bar\n",
    "+ Select \"Run Cells\" from the \"Cell\" menu (also provides options for running multiple cells)\n",
    "\n",
    "To clear the output of one or more cells, use the appropriate option from the Cell menu.\n",
    "\n",
    "+ Cell > Current Outputs > Clear (selected cell)\n",
    "+ Cell > All Output > Clear (all cells)\n"
   ]
  },
  {
   "cell_type": "markdown",
   "metadata": {},
   "source": [
    "### Notebooks are not limited to Python"
   ]
  },
  {
   "cell_type": "markdown",
   "metadata": {},
   "source": [
    "Keep in mind that Notebooks are not limited to Python and are now available for more than 100 languages. In fact, the name Jupyter comes from the initial support for the **Ju**lia, **Py**thon and **R** programming languages.\n",
    "\n",
    "All the general principles that you learn working with Python Notebooks will carry over to these other languages."
   ]
  },
  {
   "cell_type": "markdown",
   "metadata": {},
   "source": [
    "### JupyterHub - uploading and downloading files"
   ]
  },
  {
   "cell_type": "markdown",
   "metadata": {},
   "source": [
    "If you're running these notebooks on a JupyterHub server as opposed to running on your local machine, you may be wondering how you upload/download data to/from the server. We've already seen one example where we executed `git clone` at the Linux command line to upload the repository of learning materials. Although you can always use command line tools like scp, curl and wget to move files (don't worry if you don't know what these are), the easier way is to use the capabilities built into JupyterHub.\n",
    "\n",
    "**Download**\n",
    "\n",
    "Click the box next to the file you want to download, make sure you're on the files tab, and then click the download button.\n",
    "\n",
    "![download-example](download-example.png \"Download example\")\n",
    "\n",
    "**Upload**\n",
    "\n",
    "Click the upload button and navigate to the file on your local device.\n",
    "\n",
    "![upload-example](upload-example.png \"Upload example\")"
   ]
  },
  {
   "cell_type": "markdown",
   "metadata": {},
   "source": [
    "## Getting started with basic math <a id='math'></a>"
   ]
  },
  {
   "cell_type": "markdown",
   "metadata": {},
   "source": [
    "Basic math operations work pretty much as you would expect, with multiplication and exponentiation using `*` and `**`, respectively. Python also has a built-in modulo (remainder) operator that uses `%`. The only \"gotcha\" is that Python, like most other programming languages, distinguishes *floating point numbers* (contain decimal point) and *integers*. To make things easier, integers are automatically promoted to floats when appropriate. If you really want to do integer division the way it’s traditionally done in most other languages (results truncated), use the `//` operator."
   ]
  },
  {
   "cell_type": "code",
   "execution_count": null,
   "metadata": {},
   "outputs": [],
   "source": [
    "7 * 5"
   ]
  },
  {
   "cell_type": "code",
   "execution_count": null,
   "metadata": {},
   "outputs": [],
   "source": [
    "8.1 + 3.6"
   ]
  },
  {
   "cell_type": "code",
   "execution_count": null,
   "metadata": {},
   "outputs": [],
   "source": [
    "12.5**3"
   ]
  },
  {
   "cell_type": "code",
   "execution_count": null,
   "metadata": {},
   "outputs": [],
   "source": [
    "72.94 / 81.34"
   ]
  },
  {
   "cell_type": "code",
   "execution_count": null,
   "metadata": {},
   "outputs": [],
   "source": [
    "12 / 5"
   ]
  },
  {
   "cell_type": "code",
   "execution_count": null,
   "metadata": {},
   "outputs": [],
   "source": [
    "12 // 5"
   ]
  },
  {
   "cell_type": "code",
   "execution_count": null,
   "metadata": {},
   "outputs": [],
   "source": [
    "(3.5 + 12.1) * (18.2 / 4.7)"
   ]
  },
  {
   "cell_type": "markdown",
   "metadata": {},
   "source": [
    "### Exercise"
   ]
  },
  {
   "cell_type": "markdown",
   "metadata": {},
   "source": [
    "Spend a few minutes experimenting with Python's basic math capabilities and convince yourself that the operators and parentheses work as expected using the empty cells below."
   ]
  },
  {
   "cell_type": "code",
   "execution_count": null,
   "metadata": {},
   "outputs": [],
   "source": [
    "(1*4)/7 + 6"
   ]
  },
  {
   "cell_type": "code",
   "execution_count": null,
   "metadata": {},
   "outputs": [],
   "source": []
  },
  {
   "cell_type": "markdown",
   "metadata": {},
   "source": [
    "Familiarize yourself with the Jupyter environment\n",
    "\n",
    "+ Execute, clear, create (use Insert menu and then choose Markdown or Code from pulldown) and delete (use scissors icon in toolbar) a few cells\n",
    "\n",
    "+ Download one of the image files in this directory to your computer\n",
    "\n",
    "+ Upload an arbitrary file to JupyterHub\n",
    "\n",
    "+ Delete the file you just uploaded (click box next to file name and click the trash icon)\n"
   ]
  },
  {
   "cell_type": "markdown",
   "metadata": {},
   "source": [
    "## Variables <a id='vars'></a>"
   ]
  },
  {
   "cell_type": "markdown",
   "metadata": {},
   "source": [
    "Until now, we've essentially been using Python as a desk calculator. The real power of programming though comes from assigning values to variables. We’ll start with *scalars*, which hold a single value."
   ]
  },
  {
   "cell_type": "code",
   "execution_count": null,
   "metadata": {},
   "outputs": [],
   "source": [
    "x = 10\n",
    "y = 3\n",
    "z = 5\n",
    "x*y + z"
   ]
  },
  {
   "cell_type": "code",
   "execution_count": null,
   "metadata": {},
   "outputs": [],
   "source": [
    "x = 100\n",
    "x*y + z"
   ]
  },
  {
   "cell_type": "code",
   "execution_count": null,
   "metadata": {},
   "outputs": [],
   "source": [
    "w = x + y + z"
   ]
  },
  {
   "cell_type": "markdown",
   "metadata": {},
   "source": [
    "### Technical stuff - \"=\" doesn't mean equals"
   ]
  },
  {
   "cell_type": "markdown",
   "metadata": {},
   "source": [
    "If you've programmed before, you probably didn't bat an eye when we wrote `x = 10`. Most programming languages use the equals sign to assign a value to a variable. In a math context, the equals sign usually means equality. We'll be using a slightly different syntax when we cover equality in the discussion on Booleans and logical operations.\n",
    "\n",
    "The Pascal programming language actually thought through this problem and used `:=` for assignment."
   ]
  },
  {
   "cell_type": "markdown",
   "metadata": {},
   "source": [
    "### Quick aside - What happened to our output?"
   ]
  },
  {
   "cell_type": "markdown",
   "metadata": {},
   "source": [
    "In the previous code cell, the result was assigned to the variable `w` instead of going to the display. To force output, we can use the `print()` function, which can take any number of [arguments](https://github.com/sinkovit/Discrete-Math-Project/blob/master/Glossary.md#Arguments)."
   ]
  },
  {
   "cell_type": "code",
   "execution_count": null,
   "metadata": {},
   "outputs": [],
   "source": [
    "print(x)\n",
    "print(y)\n",
    "print(z)\n",
    "print(w)"
   ]
  },
  {
   "cell_type": "code",
   "execution_count": null,
   "metadata": {},
   "outputs": [],
   "source": [
    "print(x, y, z, w)"
   ]
  },
  {
   "cell_type": "markdown",
   "metadata": {},
   "source": [
    "If there are multiple statements that generate output, only the results for the last one are displayed."
   ]
  },
  {
   "cell_type": "code",
   "execution_count": null,
   "metadata": {},
   "outputs": [],
   "source": [
    "x\n",
    "y\n",
    "z\n",
    "w"
   ]
  },
  {
   "cell_type": "markdown",
   "metadata": {},
   "source": [
    "### Listing and deleting variables"
   ]
  },
  {
   "cell_type": "markdown",
   "metadata": {},
   "source": [
    "The Jupyter environment provides some additional capabilities, known as *magic commands*, that are not part of the Python language. One of the most useful of these is `%whos`, which lists all of the currently defined variables and their properties."
   ]
  },
  {
   "cell_type": "code",
   "execution_count": null,
   "metadata": {},
   "outputs": [],
   "source": [
    "%whos"
   ]
  },
  {
   "cell_type": "markdown",
   "metadata": {},
   "source": [
    "Sometimes you'll want to do a little cleanup and remove unused variables. This is done using the `del()` function."
   ]
  },
  {
   "cell_type": "code",
   "execution_count": null,
   "metadata": {},
   "outputs": [],
   "source": [
    "del(w)"
   ]
  },
  {
   "cell_type": "code",
   "execution_count": null,
   "metadata": {},
   "outputs": [],
   "source": [
    "%whos"
   ]
  },
  {
   "cell_type": "markdown",
   "metadata": {},
   "source": [
    "### Variable types"
   ]
  },
  {
   "cell_type": "markdown",
   "metadata": {},
   "source": [
    "Unlike some other programming languages, we don't need to define the [type of a variable](https://github.com/sinkovit/Discrete-Math-Project/blob/master/Glossary.md#Variable_Types). It's automatically determined from the value that is assigned to it. In the example below, we use the `type()` function to show how a single variable can change type when assigned different values."
   ]
  },
  {
   "cell_type": "code",
   "execution_count": null,
   "metadata": {},
   "outputs": [],
   "source": [
    "a = 1.23"
   ]
  },
  {
   "cell_type": "code",
   "execution_count": null,
   "metadata": {},
   "outputs": [],
   "source": [
    "type(a)"
   ]
  },
  {
   "cell_type": "code",
   "execution_count": null,
   "metadata": {},
   "outputs": [],
   "source": [
    "a = 123"
   ]
  },
  {
   "cell_type": "code",
   "execution_count": null,
   "metadata": {},
   "outputs": [],
   "source": [
    "type(a)"
   ]
  },
  {
   "cell_type": "code",
   "execution_count": null,
   "metadata": {},
   "outputs": [],
   "source": [
    "del(a)"
   ]
  },
  {
   "cell_type": "markdown",
   "metadata": {},
   "source": [
    "### Exercise"
   ]
  },
  {
   "cell_type": "markdown",
   "metadata": {},
   "source": [
    "Try creating, deleting and listing variables. See what happens if you try to use a variable that hasn't yet been defined and if you can distinguish between integer and floating point variables."
   ]
  },
  {
   "cell_type": "code",
   "execution_count": null,
   "metadata": {},
   "outputs": [],
   "source": []
  },
  {
   "cell_type": "markdown",
   "metadata": {},
   "source": [
    "## Intermission - Adding comments to your code <a id='comments'></a>"
   ]
  },
  {
   "cell_type": "markdown",
   "metadata": {},
   "source": [
    "Sometimes you'll want to add comments to your code. This will be especially important as we start creating more complex cells containing flow control (e.g. loops and branches) and functions.\n",
    "\n",
    "Single line comments extend from the hash sign (#) to the end of the line. Multiple line comments are delimited using triple single quotes."
   ]
  },
  {
   "cell_type": "code",
   "execution_count": null,
   "metadata": {},
   "outputs": [],
   "source": [
    "'''\n",
    "This cell illustrates the use of Python's comment capabilities. \n",
    "The example is somewhat contrived, but it does show how to do \n",
    "multiline and single line comments\n",
    "'''\n",
    "\n",
    "# The previous multiline comment could have\n",
    "# been written using multiple single line\n",
    "# comments (like here), but for larger blocks\n",
    "# of text it's often easier to take advantage\n",
    "# of the multiline comments\n",
    "\n",
    "print(x + y)  # Addition (this comment doesn't affect anything before the hash)\n",
    "print(x * y)  # Multiplication\n",
    "print(x / y)  # Division"
   ]
  },
  {
   "cell_type": "markdown",
   "metadata": {},
   "source": [
    "## Color and syntax highlighting"
   ]
  },
  {
   "cell_type": "markdown",
   "metadata": {},
   "source": [
    "By now, you probably noticed that different parts of your code are highlighted in different colors: multiline comments in red, single line comments in dull green, Python built-in functions and number literals in bright green, operators (+, -, /) in purple.\n",
    "\n",
    "This highlighting is provided by the Jupyter environment to help you catch errors (e.g. mismatched quotes, misspelled key words, etc.) and make your code easier to read."
   ]
  },
  {
   "cell_type": "markdown",
   "metadata": {},
   "source": [
    "## [Booleans](https://github.com/sinkovit/Discrete-Math-Project/blob/master/Glossary.md#Booleans) and logical operations <a id='bools'></a>"
   ]
  },
  {
   "cell_type": "markdown",
   "metadata": {},
   "source": [
    "Before we get into slightly more complex topics such as loops and branching, we need to become familiar with the underlying Booleans and logical operation.\n",
    "\n",
    "Python has two Boolean values: `True` and `False` (always written exactly that way, with initial capital followed by lowercase). Many other things are treated as False - numbers that equal zero (float, integer and complex) along with some objects that we haven't yet encountered: empty strings, empty sets and empty lists. Everything else equates to True.\n",
    "\n",
    "\n",
    "Comparisons employ the familiar symbols `<`, `<=`, `>`, `>=`, while equality and inequality use `==` and `!=`. To create compound logical statements, Python uses the `and`, `or` and `not` keywords."
   ]
  },
  {
   "cell_type": "code",
   "execution_count": null,
   "metadata": {},
   "outputs": [],
   "source": [
    "a = 2\n",
    "b = 3\n",
    "c = 2\n",
    "\n",
    "print(a == b)\n",
    "print(a != c)\n",
    "print(a > c)\n",
    "print(a >= c)\n",
    "print(b < c)\n",
    "print(c <= b)\n",
    "\n",
    "print()\n",
    "\n",
    "print(a > b and a <= c)\n",
    "print(a > b or a <= c)"
   ]
  },
  {
   "cell_type": "code",
   "execution_count": null,
   "metadata": {},
   "outputs": [],
   "source": [
    "print(True and False)\n",
    "print(True or False)\n",
    "print(not False)"
   ]
  },
  {
   "cell_type": "markdown",
   "metadata": {},
   "source": [
    "### Technical stuff - Compound logical statements and truth tables"
   ]
  },
  {
   "cell_type": "markdown",
   "metadata": {},
   "source": [
    "The *logical conjunction* (`and`) is True if both arguments are True.\n",
    "\n",
    "|P     |Q      |P and Q|\n",
    "|------|-------|-------|\n",
    "|True  | True  | True  |\n",
    "|True  | False | False |\n",
    "|False | True  | False |\n",
    "|False | False | False |\n",
    "\n",
    "The *logical disjunction* (`or`) is True if at least one of the arguments is True\n",
    "\n",
    "|P     |Q      |P or Q |\n",
    "|------|-------|-------|\n",
    "|True  | True  | True  |\n",
    "|True  | False | True  |\n",
    "|False | True  | True  |\n",
    "|False | False | False |"
   ]
  },
  {
   "cell_type": "markdown",
   "metadata": {},
   "source": [
    "### Exercise"
   ]
  },
  {
   "cell_type": "markdown",
   "metadata": {},
   "source": [
    "Create a few simple and compound logical statements to convince yourself that you understand the use of the comparison operators and keywords. Experiment with different capitalizations of the True/False Boolean variable. Hint - look at how the font and color changes confirm correct spelling and case."
   ]
  },
  {
   "cell_type": "code",
   "execution_count": null,
   "metadata": {},
   "outputs": [],
   "source": []
  },
  {
   "cell_type": "markdown",
   "metadata": {},
   "source": [
    "## Extending math capabilities with NumPy <a id='numpy'></a>"
   ]
  },
  {
   "cell_type": "markdown",
   "metadata": {},
   "source": [
    "Python has a limited number of built-in math operators and functions. To get additional capabilities, we can use the Python [NumPy](https://numpy.org/) module (NumPy = **Num**erical **Py**thon). We'll talk more about modules later - for now you just need to know the two following steps\n",
    "\n",
    "1. Execute the line `import numpy as np`\n",
    "2. Access the numpy function with the syntax `np.function_name()`"
   ]
  },
  {
   "cell_type": "code",
   "execution_count": null,
   "metadata": {},
   "outputs": [],
   "source": [
    "import numpy as np"
   ]
  },
  {
   "cell_type": "code",
   "execution_count": null,
   "metadata": {},
   "outputs": [],
   "source": [
    "x = 1.23\n",
    "y = 3.45"
   ]
  },
  {
   "cell_type": "code",
   "execution_count": null,
   "metadata": {},
   "outputs": [],
   "source": [
    "np.sqrt(x)"
   ]
  },
  {
   "cell_type": "code",
   "execution_count": null,
   "metadata": {},
   "outputs": [],
   "source": [
    "np.cos(y) + np.sin(x)"
   ]
  },
  {
   "cell_type": "code",
   "execution_count": null,
   "metadata": {},
   "outputs": [],
   "source": [
    "np.log(x) + np.exp(y)"
   ]
  },
  {
   "cell_type": "markdown",
   "metadata": {},
   "source": [
    "We've barely touched on the capabilites of NumPy. We'll see its true power once we introduce  NumPy's key data type, the N-dimensional array (ndarray), in another notebook. First though, we'll need to finish our tour of the Python basics. "
   ]
  },
  {
   "cell_type": "markdown",
   "metadata": {},
   "source": [
    "## [Strings](https://github.com/sinkovit/Discrete-Math-Project/blob/master/Glossary.md#String) <a id='strings'></a>"
   ]
  },
  {
   "cell_type": "markdown",
   "metadata": {},
   "source": [
    "We've been working until now with numeric data types - floating point and integer values. Python also has powerful string type, which can contain an arbitrary number of characters. Strings are delimited using single or double quotes."
   ]
  },
  {
   "cell_type": "code",
   "execution_count": null,
   "metadata": {},
   "outputs": [],
   "source": [
    "str1 = 'abcdef'\n",
    "str2 = \"ghijkl\"\n",
    "print(str1, str2)"
   ]
  },
  {
   "cell_type": "markdown",
   "metadata": {},
   "source": [
    "### Strings with embedded quotes"
   ]
  },
  {
   "cell_type": "markdown",
   "metadata": {},
   "source": [
    "What if my string contains embedded quotes? There are two easy solutions.\n",
    "\n",
    "+ If the string only contains embedded single or double quote, delimit the string using the other variety\n",
    "+ *Escape* the quote (get rid of its special meaning) using a backslash"
   ]
  },
  {
   "cell_type": "code",
   "execution_count": null,
   "metadata": {},
   "outputs": [],
   "source": [
    "str3 = \"I need 'single quotes' within my string\"\n",
    "str4 = 'I need \"double quotes\" within my string'\n",
    "str5 = 'I need \\'single quotes\\' within my string'\n",
    "str6 = \"I need \\\"double quotes\\\" within my string\"\n",
    "\n",
    "print(str3)\n",
    "print(str4)\n",
    "print(str5)\n",
    "print(str6)"
   ]
  },
  {
   "cell_type": "markdown",
   "metadata": {},
   "source": [
    "### Working with strings"
   ]
  },
  {
   "cell_type": "markdown",
   "metadata": {},
   "source": [
    "Python provides many ways for manipulating and interrogating strings. A few are illustrated below, see the documentation for a more complete list https://docs.python.org/3/library/stdtypes.html#text-sequence-type-str"
   ]
  },
  {
   "cell_type": "code",
   "execution_count": null,
   "metadata": {},
   "outputs": [],
   "source": [
    "# Define a string and return its length\n",
    "mystr = 'abCdefgHij'\n",
    "print('String length:', len(mystr))"
   ]
  },
  {
   "cell_type": "code",
   "execution_count": null,
   "metadata": {},
   "outputs": [],
   "source": [
    "# Do some conversions on the string - these do not modify the original string\n",
    "print('Convert to upper case:', mystr.upper())\n",
    "print('Convert to lower case:', mystr.lower())\n",
    "print('Capitalize the string:', mystr.capitalize())\n",
    "print('Original string      :', mystr)"
   ]
  },
  {
   "cell_type": "code",
   "execution_count": null,
   "metadata": {},
   "outputs": [],
   "source": [
    "# Ask some questions about the string\n",
    "print('Is the string all alphabetical characters:', mystr.isalpha())\n",
    "print('Is the string all lower case:', mystr.islower())\n",
    "print('Is the string all digits:', mystr.isdigit())\n",
    "print('Is \"def\" found in mystr:', 'def' in mystr)\n",
    "print('Is \"xyz\" found in mystr:', 'xyz' in mystr)\n",
    "print('Where does \"def\" start in mystr:', mystr.find('def'))"
   ]
  },
  {
   "cell_type": "markdown",
   "metadata": {},
   "source": [
    "### Technical stuff - What's with that new syntax, mystr.upper( )?"
   ]
  },
  {
   "cell_type": "markdown",
   "metadata": {},
   "source": [
    "*Object oriented languages* allow us to define classes and the operations that can be applied to them. Without getting too deep in the weeds\n",
    "\n",
    "+ a *class* is a general template\n",
    "+ an *object* is a particular [instance](https://github.com/sinkovit/Discrete-Math-Project/blob/master/Glossary.md#Instance) of a class\n",
    "+ a *method* is an operation that can be applied to a class\n",
    "\n",
    "Let's make that a little more concrete\n",
    "\n",
    "+ We used Python's built-in `string` class ...\n",
    "+ To define `mystr` as an instance of that class ...\n",
    "+ And applied the `upper()`, `lower()` and `capitalize()` methods using the dot notation\n",
    "\n",
    "Why the parentheses after the class name? Sometimes a method can take additional arguments and the general syntax is `object.method(arguments)`\n",
    "\n",
    "You can create your own classes, but that's a little more advanced and beyond the scope of this tutorial. For now, you'll be able to accomplish everything you need to do using classes that have already been defined."
   ]
  },
  {
   "cell_type": "code",
   "execution_count": null,
   "metadata": {},
   "outputs": [],
   "source": [
    "# Concatenate strings\n",
    "str7 = str1 + '----' + str2\n",
    "print(str7)"
   ]
  },
  {
   "cell_type": "markdown",
   "metadata": {},
   "source": [
    "### Technical stuff - You can *add* strings?"
   ]
  },
  {
   "cell_type": "markdown",
   "metadata": {},
   "source": [
    "Yes, we really did use a plus sign to add strings. This is an example of *operator overloading*, where `+` has different meanings depending on the [argument](https://github.com/sinkovit/Discrete-Math-Project/blob/master/Glossary.md#Arguments) [types](https://github.com/sinkovit/Discrete-Math-Project/blob/master/Glossary.md#Variable_Types)."
   ]
  },
  {
   "cell_type": "markdown",
   "metadata": {},
   "source": [
    "### Accessing string characters by position"
   ]
  },
  {
   "cell_type": "markdown",
   "metadata": {},
   "source": [
    "Characters within a string can be accessed by position and parts of strings can be accessed by specifying a range of positions, with the first character in position '0' and the last position '-1'.\n",
    "\n",
    "Why is the first character in the string at position '0'? Many programming languages follow the model of the C language and use the [index](https://github.com/sinkovit/Discrete-Math-Project/blob/master/Glossary.md#Index) to indicate an *offset* rather than a position. The first element of a list, array, etc. is offset zero elements from the start of the list. Note that this convention is not universal - Fortran, Matlab, Julia and others begin counting with one."
   ]
  },
  {
   "cell_type": "code",
   "execution_count": null,
   "metadata": {},
   "outputs": [],
   "source": [
    "str8 = 'mnopqrst'\n",
    "print(str8[0])\n",
    "print(str8[1])\n",
    "print(str8[2])\n",
    "print(str8[0:5])\n",
    "print(str8[1])"
   ]
  },
  {
   "cell_type": "markdown",
   "metadata": {},
   "source": [
    "### Exercise"
   ]
  },
  {
   "cell_type": "markdown",
   "metadata": {},
   "source": [
    "Take some time to experiment with strings. Create your own strings and tinker with some of the methods that had been shown in the previous examples. Try modifying a single element of a string (e.g. `newstr[2] = 'X'`). What happens if we use the `str.find()` method to locate a substring that does not exist in the string?"
   ]
  },
  {
   "cell_type": "code",
   "execution_count": null,
   "metadata": {},
   "outputs": [],
   "source": []
  },
  {
   "cell_type": "markdown",
   "metadata": {},
   "source": [
    "## [Lists](https://github.com/sinkovit/Discrete-Math-Project/blob/master/Glossary.md#Lists) <a id='lists'></a>"
   ]
  },
  {
   "cell_type": "markdown",
   "metadata": {},
   "source": [
    "So far, we've limited the discussion to simple scalar variables - objects that can store a single value. Python provides more complex data types that build on these scalars. We begin our discussion with the Python **list**.\n",
    "\n",
    "Lists are arbitrary collections of [elements](https://github.com/sinkovit/Discrete-Math-Project/blob/master/Glossary.md#Elements). The elements can be strings, integers, Booleans, floating point numbers and even other lists, sets, tuples or dictionaries (we'll talk about some of these other collections later).\n",
    "\n",
    "Unlike strings, lists are mutable, which means that we can change the values of elements. The same element can appear multiple times in a list and elements have defined positions. These properties distinguish lists from Python's other built-in data structures. \n",
    "\n",
    "Lists are enclosed by square brackets, with elements separated by commas."
   ]
  },
  {
   "cell_type": "code",
   "execution_count": null,
   "metadata": {},
   "outputs": [],
   "source": [
    "ilist = [1, 4, 9, 16, 25] # List of integers\n",
    "print(ilist)\n",
    "\n",
    "flist = [1.1, 4.4, 9.9, 16.6, 25.5] # List of floating point numbers\n",
    "print(flist)\n",
    "\n",
    "slist = ['date', 'apple', 'banana', 'cantaloupe', 'date', 'apple'] # List of strings\n",
    "print(slist)\n",
    "\n",
    "mlist = [123, 'cat', 1.23, 'dog'] # List of mixed types\n",
    "print(mlist)\n",
    "\n",
    "elist = [] # An empty list\n",
    "print(elist)"
   ]
  },
  {
   "cell_type": "markdown",
   "metadata": {},
   "source": [
    "Like strings, list elements can be accessed by their position, with the first element in position '0' and the last position '-1'. But unlike strings, which are *immutable*, we can change the individual elements of a list."
   ]
  },
  {
   "cell_type": "code",
   "execution_count": null,
   "metadata": {},
   "outputs": [],
   "source": [
    "mylist = ['ant', 'beetle', 'cicada', 'dragonfly', 'earwig']\n",
    "print(mylist[0])\n",
    "print(mylist[1])\n",
    "print(mylist[2])\n",
    "print(mylist[-1])\n",
    "\n",
    "print()\n",
    "print('Before:', mylist)\n",
    "mylist[2] = 'CRICKET'\n",
    "print('After:', mylist)"
   ]
  },
  {
   "cell_type": "markdown",
   "metadata": {},
   "source": [
    "Elements can be added onto the end of a list using the `list.append()` method and deleted by position. Lists can also be reversed, sorted and the elements counted."
   ]
  },
  {
   "cell_type": "code",
   "execution_count": null,
   "metadata": {},
   "outputs": [],
   "source": [
    "slist = ['date', 'apple', 'banana', 'cantaloupe', 'date', 'apple']\n",
    "\n",
    "print(\"Appending to end of a list\")\n",
    "print(\"Before: \", slist)\n",
    "slist.append('eggplant') # Using the append method\n",
    "print(\"After:  \", slist)\n",
    "print()\n",
    "\n",
    "print(\"Deleting a list element\")\n",
    "print(\"Before: \", slist)\n",
    "del(slist[2]) # Using the del operator\n",
    "print(\"After:  \", slist)\n",
    "print()\n",
    "\n",
    "print(\"Reversing a list\")\n",
    "print(\"Before: \", slist)\n",
    "slist.reverse() # Note that reverse is done in place\n",
    "print(\"After:  \", slist)\n",
    "print()\n",
    "\n",
    "print(\"Sorting a list\")\n",
    "print(\"Before: \", slist)\n",
    "slist.sort() # Note that sort is done in place\n",
    "print(\"After:  \", slist)\n",
    "print()\n",
    "\n",
    "print(\"Counting the number of times an item appears in a list\")\n",
    "print(\"apple appears\", slist.count('apple'), \"times\")\n",
    "print(\"banana appears\", slist.count('banana'), \"times\")\n",
    "print()"
   ]
  },
  {
   "cell_type": "markdown",
   "metadata": {},
   "source": [
    "### Lists of lists"
   ]
  },
  {
   "cell_type": "markdown",
   "metadata": {},
   "source": [
    "As a reminder, list elements are not limited to simple data types - a list can contains other lists (or sets, or lists-of-list, or ...) as elements. To access the elements of these nested lists, use an index in square brackets for each level of nesting."
   ]
  },
  {
   "cell_type": "code",
   "execution_count": null,
   "metadata": {},
   "outputs": [],
   "source": [
    "lol = [['a', 'b', 'c'], ['d', 'e', 'f'], ['g', 'h', 'i']]\n",
    "\n",
    "# Access the 1st list element\n",
    "print(lol[0])\n",
    "\n",
    "# Access the 1st element of the 1st list element\n",
    "print(lol[0][0])\n",
    "\n",
    "# Access the 2nd element of the 3rd list element\n",
    "print(lol[2][1])\n",
    "\n",
    "# Access the 3rd element of the 2nd list element\n",
    "print(lol[1][2])"
   ]
  },
  {
   "cell_type": "markdown",
   "metadata": {},
   "source": [
    "### Exercises"
   ]
  },
  {
   "cell_type": "markdown",
   "metadata": {},
   "source": [
    "Create a new list containing a few items (favorite animals, friends, dinosaurs). Add a few elements, delete a few elements, sort the list and access elements by index.\n",
    "\n",
    "+ Bonus exercise - create a nested list like we did above and try some experiments\n",
    "\n",
    "+ Double bonus exercise - extend above to three levels of nesting"
   ]
  },
  {
   "cell_type": "code",
   "execution_count": null,
   "metadata": {},
   "outputs": [],
   "source": []
  },
  {
   "cell_type": "markdown",
   "metadata": {},
   "source": [
    "## [Sets](https://github.com/sinkovit/Discrete-Math-Project/blob/master/Glossary.md#Lists) <a id='sets'></a>"
   ]
  },
  {
   "cell_type": "markdown",
   "metadata": {},
   "source": [
    "Before we wrap up this first part of the Python introduction, we'll introduce one more data type - the Python **set**. A set is an arbitrary collection of zero or more elements, not necessarily all of the same type. But unlike a list, there are two important differences\n",
    "\n",
    "+ The elements are unordered (i.e. we cannot access an element by position)\n",
    "+ Elements are not repeated\n",
    "\n",
    "In a nutshell, Python sets behave exactly like the mathematical definitions of sets. As expected, we have a number of functions, methods and operators for working with sets.\n",
    "\n",
    "A set is created in a similar way to a list except that we use curly braces instead of square brackets. One quirk is that an empty set is created using the `set()` function for reasons that we'll describe later when we talk about dictionaries.\n",
    "\n"
   ]
  },
  {
   "cell_type": "code",
   "execution_count": null,
   "metadata": {},
   "outputs": [],
   "source": [
    "set1 = {'apple', 'banana', 'orange', 'blueberry'}\n",
    "set2 = {'strawberry', 'persimmon', 'banana', 'clementine', 'grape'}\n",
    "set3 = {'banana', 'orange', 'blueberry'}\n",
    "set4 = {'apple', 'banana', 'orange', 'blueberry'}"
   ]
  },
  {
   "cell_type": "code",
   "execution_count": null,
   "metadata": {},
   "outputs": [],
   "source": [
    "# Set union\n",
    "set1.union(set2)"
   ]
  },
  {
   "cell_type": "code",
   "execution_count": null,
   "metadata": {},
   "outputs": [],
   "source": [
    "# Set intersetion\n",
    "set1.intersection(set2)"
   ]
  },
  {
   "cell_type": "code",
   "execution_count": null,
   "metadata": {},
   "outputs": [],
   "source": [
    "# Set difference - items in set1, but not set 2\n",
    "set1 - set2 "
   ]
  },
  {
   "cell_type": "code",
   "execution_count": null,
   "metadata": {},
   "outputs": [],
   "source": [
    "# Testing sets for equality (contain same elements)\n",
    "print('set1 equal to set2 :', set1 == set2)\n",
    "print('set1 equal to set4 :', set1 == set4)"
   ]
  },
  {
   "cell_type": "code",
   "execution_count": null,
   "metadata": {},
   "outputs": [],
   "source": [
    "# Testing if one set is a subset of another\n",
    "print('set3 subset of set1 :', set3.issubset(set1))\n",
    "print('set1 subset of set3 :', set1.issubset(set3))\n",
    "print('set1 subset of set4 :', set1.issubset(set4))\n",
    "print('set4 subset of set1 :', set4.issubset(set1))\n"
   ]
  },
  {
   "cell_type": "markdown",
   "metadata": {},
   "source": [
    "Creating an empty set, then changing membership using the `add()` and `discard()` methods."
   ]
  },
  {
   "cell_type": "code",
   "execution_count": null,
   "metadata": {},
   "outputs": [],
   "source": [
    "set5 = set()\n",
    "set5.add('apple')\n",
    "set5.add('orange')\n",
    "set5.add('grape')\n",
    "print(set5)\n",
    "\n",
    "set5.discard('orange')\n",
    "print(set5)"
   ]
  },
  {
   "cell_type": "markdown",
   "metadata": {},
   "source": [
    "### Exercise"
   ]
  },
  {
   "cell_type": "markdown",
   "metadata": {},
   "source": [
    "Create a few sets of your own and experiment with unions, intersections, set differences, subsets, equality, adding elements and deleting elements. What happens if you try to add an existing element to a set? What happens if you try to delete an element that doesn't exist?"
   ]
  },
  {
   "cell_type": "code",
   "execution_count": null,
   "metadata": {},
   "outputs": [],
   "source": []
  }
 ],
 "metadata": {
  "kernelspec": {
   "display_name": "Python 3",
   "language": "python",
   "name": "python3"
  },
  "language_info": {
   "codemirror_mode": {
    "name": "ipython",
    "version": 3
   },
   "file_extension": ".py",
   "mimetype": "text/x-python",
   "name": "python",
   "nbconvert_exporter": "python",
   "pygments_lexer": "ipython3",
   "version": "3.6.4"
  }
 },
 "nbformat": 4,
 "nbformat_minor": 2
}
