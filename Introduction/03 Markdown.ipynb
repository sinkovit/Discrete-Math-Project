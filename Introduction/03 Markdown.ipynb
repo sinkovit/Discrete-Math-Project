{
 "cells": [
  {
   "cell_type": "markdown",
   "metadata": {},
   "source": [
    "# Markdown essentials"
   ]
  },
  {
   "cell_type": "markdown",
   "metadata": {},
   "source": [
    "Markdown is a lightweight markup language that is used in a variety of settings, such as Jupyter notebooks, GitHub and Bitbucket. Unlike heavyweight markup languages such as HTML, markdown provides a limited set of capabilities using a much simpler syntax.\n",
    "\n",
    "In this Notebook, we'll take a quick tour of the essential feature of markdown. I recommend seeing Adam Pritchard's cheat sheet for a more comprehensive treatment (https://github.com/adam-p/markdown-here/wiki/Markdown-Cheatsheet#code). Note that markdown is not standardized, so there may be some variation in different applications.\n",
    "\n",
    "To see the markdown rather than the rendering, just double-click the cell."
   ]
  },
  {
   "cell_type": "markdown",
   "metadata": {},
   "source": [
    "## Headers"
   ]
  },
  {
   "cell_type": "markdown",
   "metadata": {},
   "source": [
    "Heading levels indicated using hash marks. Be sure to leave a space between the hash marks and the first character of the heading text, otherwise it will be displayed as regular text. Note that we preceded each hash mark with a backslash to display a literal character. We'll talk about this more at the end of the Notebook.\n",
    "\n",
    "\\# = H1  \n",
    "\\#\\# = H2  \n",
    "\\#\\#\\# = H3  \n",
    "\\#\\#\\#\\# = H4  \n",
    "\\#\\#\\#\\#\\# = H5  \n",
    "\\#\\#\\#\\#\\#\\# = H6"
   ]
  },
  {
   "cell_type": "markdown",
   "metadata": {},
   "source": [
    "## Italics and emphasis"
   ]
  },
  {
   "cell_type": "markdown",
   "metadata": {},
   "source": [
    "*Italics* and **emphasis (bold)** text are enclosed with \\* ... \\* and \\*\\* ... \\*\\*, respectively."
   ]
  },
  {
   "cell_type": "markdown",
   "metadata": {},
   "source": [
    "## New lines and paragraphs"
   ]
  },
  {
   "cell_type": "markdown",
   "metadata": {},
   "source": [
    "To get a line break, end the line with **two** trailing spaces.  \n",
    "Getting line breaks can be a little frustrating until you discover this trick.\n",
    "\n",
    "To get a new paragraph, follow with two line breaks."
   ]
  },
  {
   "cell_type": "markdown",
   "metadata": {},
   "source": [
    "## Code syntax"
   ]
  },
  {
   "cell_type": "markdown",
   "metadata": {},
   "source": [
    "Inline code is surrounded by backticks. For example, \\`inline code\\` will be rendered as `inline code`. Multiline code is delimited using triple backticks. Although not mandatory, we recommend specifying the language at the end of first set of backticks. This results in the language-specific highlighting of keywords, operators, quoted strings, etc.\n",
    "\n",
    "Compare the rendering with the language specified and not specified.\n",
    "\n",
    "```python\n",
    "# With language specified\n",
    "for x in mylist:\n",
    "    print(x*x)\n",
    "    if x > 0:\n",
    "        print('Positive')\n",
    "    else:\n",
    "        print('Negative')\n",
    "```\n",
    "\n",
    "```\n",
    "# Without language specified\n",
    "for x in mylist:\n",
    "    print(x*x)\n",
    "    if x > 0:\n",
    "        print('Positive')\n",
    "    else:\n",
    "        print('Negative')\n",
    "```\n",
    "\n",
    "Note that you only need to do this if you're trying to display code in a markdown cell. When using a regular code cell, formatting will be done automatically."
   ]
  },
  {
   "cell_type": "markdown",
   "metadata": {},
   "source": [
    "## Bulleted and numbered lists"
   ]
  },
  {
   "cell_type": "markdown",
   "metadata": {},
   "source": [
    "Bulleted lists are created using '+' at the start of the line. Numbered list items start with digit followed by period.\n",
    "\n",
    "+ First bullet\n",
    "+ Second bullet\n",
    "+ Third bullet\n",
    "\n",
    "\n",
    "1. First numbered item\n",
    "2. Second numbered item\n",
    "3. Third numbered item"
   ]
  },
  {
   "cell_type": "markdown",
   "metadata": {},
   "source": [
    "To get nested lists, use one level of indentation (four spaces) for each level of nesting.\n",
    "\n",
    "+ First\n",
    "    + sub1\n",
    "    + sub2\n",
    "+ Second\n",
    "    + sub1\n",
    "    + sub2\n",
    "        + sub-sub1\n",
    "        + sub-sub2"
   ]
  },
  {
   "cell_type": "markdown",
   "metadata": {},
   "source": [
    "## Escaping special characters"
   ]
  },
  {
   "cell_type": "markdown",
   "metadata": {},
   "source": [
    "Asterisks, backticks and square brackets have special meaning within markdown. So do plus signs and hash marks when they appear at the start of a line. To remove their special meaning, precede with a backslash.\n",
    "\n",
    "\\# Hash mark at start of line\n",
    "\n",
    "\\+ Plus sign at start of line\n",
    "\n",
    "Text with embedded asterisks (\\*\\*\\*), backticks (\\`\\`\\`) and square brackets ( \\[ \\[ \\] \\] )"
   ]
  },
  {
   "cell_type": "code",
   "execution_count": null,
   "metadata": {},
   "outputs": [],
   "source": []
  }
 ],
 "metadata": {
  "kernelspec": {
   "display_name": "Python 3",
   "language": "python",
   "name": "python3"
  },
  "language_info": {
   "codemirror_mode": {
    "name": "ipython",
    "version": 3
   },
   "file_extension": ".py",
   "mimetype": "text/x-python",
   "name": "python",
   "nbconvert_exporter": "python",
   "pygments_lexer": "ipython3",
   "version": "3.6.4"
  }
 },
 "nbformat": 4,
 "nbformat_minor": 2
}
