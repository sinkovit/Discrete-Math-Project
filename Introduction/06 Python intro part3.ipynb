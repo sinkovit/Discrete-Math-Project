{
 "cells": [
  {
   "cell_type": "markdown",
   "metadata": {},
   "source": [
    "# Python intro for HS math - part 3"
   ]
  },
  {
   "cell_type": "markdown",
   "metadata": {},
   "source": [
    "After completing parts 1 and 2 of the Python introduction, learning about markdown language (including math formatting) and exploring how to generate permutations and combinations, you should be ready to start creating your own projects. In this notebook we'll introduce a few more Python features to round out your knowledge and make you a more capable programmer."
   ]
  },
  {
   "cell_type": "markdown",
   "metadata": {},
   "source": [
    "## Dictionaries"
   ]
  },
  {
   "cell_type": "markdown",
   "metadata": {},
   "source": [
    "Dictionaries are unordered collections of key-value pairs. The equivalent structure in other languages is sometimes called a hash or an associative array. In my opinion, choosing the name \"dictionary\" over the alteratives is yet another example of how Python was designed to be more intuitive and human friendly.  \n",
    "\n",
    "Like lists, dictionaries are mutable. While the values can be arbitrary, the key must be a simple \"hashable\" data type (e.g. lists or sets cannot serve as keys). A key can only appear once and assigning a new value to a key will overwrite the original value. Values can appear multiple times. Dictionaries are enclosed by curly braces and values of the dictionary are accessed using the key name in square brackets."
   ]
  },
  {
   "cell_type": "code",
   "execution_count": null,
   "metadata": {},
   "outputs": [],
   "source": [
    "#Initialize the dictionary with a few key-value pairs\n",
    "fruit_colors = {'apple':'red', 'banana':'yellow'}\n",
    "\n",
    "# Print out the original the dictionary\n",
    "print(\"Original dictionary\")\n",
    "print(fruit_colors)\n",
    "print()\n",
    "\n",
    "# Add a few more items\n",
    "fruit_colors['lime'] = 'green'\n",
    "fruit_colors['lemon'] = 'yellow'\n",
    "\n",
    "# Print out the new dictionary contents\n",
    "print(\"Dictionary after adding elements\")\n",
    "print(fruit_colors)\n",
    "print()\n",
    "\n",
    "# Now delete an entry and print the new contents\n",
    "del fruit_colors['lime']\n",
    "print(\"Dictionary after deleting entry\")\n",
    "print(fruit_colors)\n",
    "print()\n",
    "\n",
    "# Use the keys() and values() methods to list just the keys or values\n",
    "print(\"List the keys and values\")\n",
    "print(\"keys:\", fruit_colors.keys())\n",
    "print(\"values:\", fruit_colors.values())\n",
    "print()\n",
    "\n",
    "# The items() methods is useful for iterating over a dictionary\n",
    "print('Iterate over the dictionary')\n",
    "for k,v in fruit_colors.items():\n",
    "    print(k, v)"
   ]
  },
  {
   "cell_type": "markdown",
   "metadata": {},
   "source": [
    "### Still a little too abstract?"
   ]
  },
  {
   "cell_type": "markdown",
   "metadata": {},
   "source": [
    "If the concept of dictionary still feels a little too abstract or hasn't quite sunk in, think of it as analogous to the dictionary you're already familiar with."
   ]
  },
  {
   "cell_type": "code",
   "execution_count": null,
   "metadata": {},
   "outputs": [],
   "source": [
    "definition = {}\n",
    "\n",
    "definition['apple'] = 'the usually round, red or yellow, edible fruit of a small tree, \\\n",
    "Malus sylvestris, of the rose family.'\n",
    "\n",
    "definition['banana'] = 'a tropical plant of the genus Musa, certain species of which \\\n",
    "are cultivated for their nutritious fruit.'\n",
    "\n",
    "definition['lemon'] = 'the yellowish, acid fruit of a subtropical citrus tree, Citrus limon.'"
   ]
  },
  {
   "cell_type": "code",
   "execution_count": null,
   "metadata": {},
   "outputs": [],
   "source": [
    "print('apple:', definition['apple'])\n",
    "print()\n",
    "print('banana:', definition['banana'])\n",
    "print()\n",
    "print('lemon:', definition['lemon'])"
   ]
  },
  {
   "cell_type": "markdown",
   "metadata": {},
   "source": [
    "### Hmmm... this reminds me a lot of sets"
   ]
  },
  {
   "cell_type": "markdown",
   "metadata": {},
   "source": [
    "The use of curly braces for both sets and dictionaries can be a little confusing. Dictionaries came first and earlier versions of the language did not have native support for sets. Since curly braces were already accepted as the standard set notation among mathematicians, the Python developers decided to reuse them for representing sets.\n",
    "\n",
    "Reusing curly braces sort of makes sense given that sets and dictionaries share some similarities, such as the requirements that both set elements and dictionary keys cannot be repeated and must be simple types. To a first approximation, a set is lot like a dictionary without values."
   ]
  },
  {
   "cell_type": "markdown",
   "metadata": {},
   "source": [
    "### Remember that dictionary values are not subject to same limitations as the keys"
   ]
  },
  {
   "cell_type": "markdown",
   "metadata": {},
   "source": [
    "Although the dictionary keys are limited to simple hashable types, the values are arbitrary and can be repeated. "
   ]
  },
  {
   "cell_type": "code",
   "execution_count": null,
   "metadata": {},
   "outputs": [],
   "source": [
    "favorite_fruits = {}\n",
    "favorite_fruits['Bob'] = ['orange', 'banana', 'cherry']\n",
    "favorite_fruits['Kyle'] = ['lemon', 'peach', 'apricot']\n",
    "favorite_fruits['Trang'] = ['mango', 'banana', 'cherry']\n",
    "favorite_fruits['Ovie'] = ['orange', 'banana', 'cherry']"
   ]
  },
  {
   "cell_type": "code",
   "execution_count": null,
   "metadata": {},
   "outputs": [],
   "source": [
    "favorite_fruits['Trang']"
   ]
  },
  {
   "cell_type": "markdown",
   "metadata": {},
   "source": [
    "### Exercises"
   ]
  },
  {
   "cell_type": "markdown",
   "metadata": {},
   "source": [
    "1. Create your own dictionary containing any information you like - states and populations, friends and their pet's names, surfing spots and quality, musical acts and lead singers, restaurants and ratings. \n",
    "\n",
    "2. After creating the dictionary, convince yourself that you know how to add new entries, delete entries, associate new values with keys, iterate over the dictionary. \n",
    "\n",
    "3. Experiment with breaking the rules for a dictionary. What happens if you use a list as a key? Access a key that doesn't exist? Forget the colon between key and value when initializing a dictionary?"
   ]
  },
  {
   "cell_type": "code",
   "execution_count": null,
   "metadata": {},
   "outputs": [],
   "source": []
  },
  {
   "cell_type": "markdown",
   "metadata": {},
   "source": [
    "## Tuples"
   ]
  },
  {
   "cell_type": "markdown",
   "metadata": {},
   "source": [
    "A tuple (rhymes with couple) is a Python data structure that is similar to a list except that tuples are immutable. A tuple is enclosed by parentheses and tuple elements are accessed by index in the same way as list elements."
   ]
  },
  {
   "cell_type": "code",
   "execution_count": null,
   "metadata": {},
   "outputs": [],
   "source": [
    "t = ('a', 'b', 'c')\n",
    "\n",
    "print(t)\n",
    "print()\n",
    "\n",
    "for x in t:\n",
    "    print(x)\n",
    "print()\n",
    "    \n",
    "print(t[0], t[1], t[2])"
   ]
  },
  {
   "cell_type": "markdown",
   "metadata": {},
   "source": [
    "Sometimes you need a tuple that contains a single element. For example, a function may require a tuple as an argument, regardless of the number of elements in the tuple. In this case, follow the element of the tuple with a comma."
   ]
  },
  {
   "cell_type": "code",
   "execution_count": null,
   "metadata": {},
   "outputs": [],
   "source": [
    "y = (3)\n",
    "type(y)"
   ]
  },
  {
   "cell_type": "code",
   "execution_count": null,
   "metadata": {},
   "outputs": [],
   "source": [
    "y = (3,)\n",
    "type(y)"
   ]
  },
  {
   "cell_type": "markdown",
   "metadata": {},
   "source": [
    "### OK, why even bother having tuples?"
   ]
  },
  {
   "cell_type": "markdown",
   "metadata": {},
   "source": [
    "Since tuples behave just like a lists except that they are immutable, why even bother having them? It turns out that programs can be much more efficient if the Python interpreter knows that an object is immutable. Don't worry, this is mostly under the hood, nerdy stuff that you don't need to worry about."
   ]
  },
  {
   "cell_type": "markdown",
   "metadata": {},
   "source": [
    "### Exercises"
   ]
  },
  {
   "cell_type": "markdown",
   "metadata": {},
   "source": [
    "Take a few minutes to experiment with tuples. As usual, see if you can break things. For example, what happens if you try to change an element of a tuple.\n",
    "\n",
    "Next, create a tuple of lists and try changing elements of the list.\n",
    "\n",
    "`t = (['a', 'b', 'c'], ['d', 'e', 'f'], ['g', 'h', 'i'])`"
   ]
  },
  {
   "cell_type": "code",
   "execution_count": null,
   "metadata": {},
   "outputs": [],
   "source": []
  },
  {
   "cell_type": "markdown",
   "metadata": {},
   "source": [
    "## Iterating over multiple lists (and an intro to iterators)"
   ]
  },
  {
   "cell_type": "markdown",
   "metadata": {},
   "source": [
    "The `zip()` built-in function takes one or more lists and generates an iterator of tuples built from the corresponding elements of the list. Convert to a list if you need to use in a list context."
   ]
  },
  {
   "cell_type": "code",
   "execution_count": null,
   "metadata": {},
   "outputs": [],
   "source": [
    "list1 = ['a', 'b', 'c', 'd']\n",
    "list2 = ['A', 'B', 'C', 'D']\n",
    "list3 = [1, 2, 3, 4]\n",
    "t = zip(list1, list2, list3)\n",
    "print(list(t))"
   ]
  },
  {
   "cell_type": "markdown",
   "metadata": {},
   "source": [
    "Normally you would use the `zip()` function with lists of the same lengths. If lists of different lengths are used, the number of tuples will be determined by the length of the shortest list."
   ]
  },
  {
   "cell_type": "code",
   "execution_count": null,
   "metadata": {},
   "outputs": [],
   "source": [
    "list1 = ['a', 'b', 'c', 'd', 'e', 'f']\n",
    "list2 = ['A', 'B', 'C', 'D', 'E']\n",
    "list3 = [1, 2, 3, 4, 5, 6, 7, 8, 9]\n",
    "t = zip(list1, list2, list3)\n",
    "print(list(t))"
   ]
  },
  {
   "cell_type": "markdown",
   "metadata": {},
   "source": [
    "A zipped object can be unzipped using the zip command with the argument preceded by an asterisk"
   ]
  },
  {
   "cell_type": "code",
   "execution_count": null,
   "metadata": {},
   "outputs": [],
   "source": [
    "t = zip(list1, list2, list3)\n",
    "x, y, z = zip(*t)\n",
    "print(x)\n",
    "print(y)\n",
    "print(z)"
   ]
  },
  {
   "cell_type": "markdown",
   "metadata": {},
   "source": [
    "## Iterators"
   ]
  },
  {
   "cell_type": "markdown",
   "metadata": {},
   "source": [
    "We used the term iterator in the previous discussion of the `zip()` function and in the notebook on Combinations and Permutations, but without providing a definition. An iterator is an object that returns successive items in a data stream and is exhausted when the last element has been returned. Iterators can improve performance and reduce memory usage since elements in the sequence are only generated as needed.\n",
    "\n",
    "As we illustrate below, once an item in an iterator is accessed or used, it is no longer available."
   ]
  },
  {
   "cell_type": "code",
   "execution_count": null,
   "metadata": {},
   "outputs": [],
   "source": [
    "t = zip(list1, list2, list3)\n",
    "print(list(t))\n",
    "print(list(t))"
   ]
  },
  {
   "cell_type": "markdown",
   "metadata": {},
   "source": [
    "Although you'll rarely need to do this, the next element in an iterator can be obtained using the `next()` function or the `__next__()` method."
   ]
  },
  {
   "cell_type": "code",
   "execution_count": null,
   "metadata": {},
   "outputs": [],
   "source": [
    "t = zip(list1, list2, list3)\n",
    "print(next(t))\n",
    "print(next(t))\n",
    "print(t.__next__())\n",
    "print(t.__next__())\n",
    "print(t.__next__())\n",
    "print(list(t))"
   ]
  },
  {
   "cell_type": "markdown",
   "metadata": {},
   "source": [
    "## Assignments, copies, deep copies and shallow copies"
   ]
  },
  {
   "cell_type": "markdown",
   "metadata": {},
   "source": [
    "One of the biggest stumbling blocks in Python is dealing with the quirks of copying lists, dictionaries, sets and other collections of items. Let's start with a simple example"
   ]
  },
  {
   "cell_type": "code",
   "execution_count": null,
   "metadata": {},
   "outputs": [],
   "source": [
    "a = ['apple', 'banana', 'orange']\n",
    "print('List a:', a)\n",
    "b = a\n",
    "b[0] = 'lemon'\n",
    "print('List a:', a)"
   ]
  },
  {
   "cell_type": "markdown",
   "metadata": {},
   "source": [
    "### What just happened?"
   ]
  },
  {
   "cell_type": "markdown",
   "metadata": {},
   "source": [
    "The assignment `\"b = a\"` does not create a new list. The two lists point to the same memory location and `b` is simply an alias or another name for `a`. \n",
    "\n",
    "Why would the Python developers implement things this way, isn't that kind of crazy and counterintuitive? Turns out that this behavior gives experienced programmers a lot of control, especially when working with more complex data structures.\n",
    "\n",
    "To get an independent copy of the list we need to use the `copy()` function."
   ]
  },
  {
   "cell_type": "code",
   "execution_count": null,
   "metadata": {},
   "outputs": [],
   "source": [
    "import copy\n",
    "a = ['apple', 'banana', 'orange']\n",
    "print('List a:', a)\n",
    "b = copy.copy(a)\n",
    "b[0] = 'lemon'\n",
    "print('List a:', a)"
   ]
  },
  {
   "cell_type": "markdown",
   "metadata": {},
   "source": [
    "For nested objects, such as lists of lists, the behavior is more complex. The `copy()` function only resolves the first level of references and we need to use a `deepcopy()` if we want to recursively copy the entire object."
   ]
  },
  {
   "cell_type": "code",
   "execution_count": null,
   "metadata": {},
   "outputs": [],
   "source": [
    "a = ['apple', 'banana', 'orange', ['lime', 'peach']]\n",
    "print(a)\n",
    "b = copy.copy(a)\n",
    "b[0] = 'cherry'\n",
    "b[3][0] = 'mango'\n",
    "print(a)"
   ]
  },
  {
   "cell_type": "code",
   "execution_count": null,
   "metadata": {},
   "outputs": [],
   "source": [
    "a = ['apple', 'banana', 'orange', ['lime', 'peach']]\n",
    "print(a)\n",
    "b = copy.deepcopy(a)\n",
    "b[0] = 'cherry'\n",
    "b[3][0] = 'mango'\n",
    "print(a)"
   ]
  },
  {
   "cell_type": "markdown",
   "metadata": {},
   "source": [
    "What if we want to do something really clever, such as creating a copy of an object that is independent only at the first two levels of loop nesting? See the example below. Don't worry, this is not on the test ;)"
   ]
  },
  {
   "cell_type": "code",
   "execution_count": null,
   "metadata": {},
   "outputs": [],
   "source": [
    "aaa = ['a', ['b','c'], [['d','e'], ['f','g']]]\n",
    "print(aaa)\n",
    "\n",
    "bbb = ['']*3\n",
    "for i,x in enumerate(aaa):\n",
    "    bbb[i] = copy.copy(aaa[i])\n",
    "    \n",
    "bbb[0] = 'X'\n",
    "bbb[1][0] = 'Y'\n",
    "bbb[2][0][0] = 'Z'\n",
    "\n",
    "print(aaa)"
   ]
  },
  {
   "cell_type": "markdown",
   "metadata": {},
   "source": [
    "## List comprehension"
   ]
  },
  {
   "cell_type": "markdown",
   "metadata": {},
   "source": [
    "Python's list comprehension functionality makes it very easy to create and populate a new list. We'll show an example first using the loop syntax and then demonstrate how much easier it is to do with list comprehension.\n",
    "\n",
    "While this isn't something that you absolutely need to know, the technique is commonly used and will make your code easier to read. It's also very Pythonic!"
   ]
  },
  {
   "cell_type": "code",
   "execution_count": null,
   "metadata": {},
   "outputs": [],
   "source": [
    "# Populate a list of squares using a loop\n",
    "squares = []\n",
    "for x in range(10):\n",
    "    squares.append(x*x)    \n",
    "squares"
   ]
  },
  {
   "cell_type": "code",
   "execution_count": null,
   "metadata": {},
   "outputs": [],
   "source": [
    "# Populate a list of squares using list comprehension (very Pythonic)\n",
    "squares = [x*x for x in range(10)]\n",
    "squares"
   ]
  },
  {
   "cell_type": "markdown",
   "metadata": {},
   "source": [
    "The general form of list comprehension is **[transformation iterator filter]**. In the example below, we use a more complex function and limit the list to values that are divisible by 3"
   ]
  },
  {
   "cell_type": "code",
   "execution_count": null,
   "metadata": {},
   "outputs": [],
   "source": [
    "squares = [x*x + x - 2 for x in range(10) if (x*x + x - 2)%3 == 0]\n",
    "squares"
   ]
  },
  {
   "cell_type": "markdown",
   "metadata": {},
   "source": [
    "### One more thing about the range function"
   ]
  },
  {
   "cell_type": "markdown",
   "metadata": {},
   "source": [
    "Like many Python functions, range can be called with different numbers of arguments.\n",
    "\n",
    "+ range(n) --> integers 0 through n-1\n",
    "+ range(m,n) --> integers m through n-1\n",
    "+ range(m,n,p) --> integers m through n-1 with stride p"
   ]
  },
  {
   "cell_type": "code",
   "execution_count": null,
   "metadata": {},
   "outputs": [],
   "source": [
    "list(range(2,20,3))"
   ]
  },
  {
   "cell_type": "markdown",
   "metadata": {},
   "source": [
    "## Map"
   ]
  },
  {
   "cell_type": "markdown",
   "metadata": {},
   "source": [
    "The map built-in can be used to apply a function to all elements of an iterable. Note that map returns an iterator and will need to be converted to a list to use in a list context."
   ]
  },
  {
   "cell_type": "code",
   "execution_count": null,
   "metadata": {},
   "outputs": [],
   "source": [
    "x = [0.0, -0.25, 0.5, -0.75, 1.0]"
   ]
  },
  {
   "cell_type": "code",
   "execution_count": null,
   "metadata": {},
   "outputs": [],
   "source": [
    "y = abs(x) # This does not do what you would hope and produces an error"
   ]
  },
  {
   "cell_type": "code",
   "execution_count": null,
   "metadata": {},
   "outputs": [],
   "source": [
    "y = map(abs, x) # Instead use map() which applies function (abs) to list (x)\n",
    "print(list(y))"
   ]
  },
  {
   "cell_type": "markdown",
   "metadata": {},
   "source": [
    "### Lambda functions"
   ]
  },
  {
   "cell_type": "markdown",
   "metadata": {},
   "source": [
    "Python supports lambda functions. We won't get into the theory, but think of it as a way to declare a nameless function that can be used in certain contexts to simply your code"
   ]
  },
  {
   "cell_type": "code",
   "execution_count": null,
   "metadata": {},
   "outputs": [],
   "source": [
    "z = [2,3,5,7,11]\n",
    "y = list(map(lambda a: a**2 + a**3, z))\n",
    "print(y)"
   ]
  },
  {
   "cell_type": "markdown",
   "metadata": {},
   "source": [
    "Lambda functions can take multiple arguments"
   ]
  },
  {
   "cell_type": "code",
   "execution_count": null,
   "metadata": {},
   "outputs": [],
   "source": [
    "z = [2,3,5,7,11]\n",
    "w = [1,2,4,6,10]\n",
    "y = list(map(lambda a, b: a**2 + a**3 + b, z, w))\n",
    "print(y)"
   ]
  },
  {
   "cell_type": "markdown",
   "metadata": {},
   "source": [
    "## Making printing prettier"
   ]
  },
  {
   "cell_type": "markdown",
   "metadata": {},
   "source": [
    "We introduced the `print()` function in the very first notebook since we needed some way to generate output beyond the clumsy default method of dumping the contents of the last object listed in a cell. So far, this has worked out pretty well. But consider the following example, which generates some rather ugly output."
   ]
  },
  {
   "cell_type": "code",
   "execution_count": null,
   "metadata": {},
   "outputs": [],
   "source": [
    "names = ['Bob', 'Ovie', 'Trang', 'Tony', 'Timothy', 'Ange']\n",
    "x = range(1,7)\n",
    "x7 = [x**7 for x in range(1,7)]\n",
    "\n",
    "for a, b, c in zip(names, x, x7):\n",
    "    print(a, b, c)"
   ]
  },
  {
   "cell_type": "markdown",
   "metadata": {},
   "source": [
    "Fortunately, the `str.format()` method makes the output a little more appealing using the following syntax\n",
    "\n",
    "`'string containing placeholders'.format(items to be printed)`\n",
    "\n",
    "The placeholders are of the form `{position:specification}` and the number of placeholders matches the number of items to be printed. The specification can include the length and the data type. Fortunately, we just need to know a few.\n",
    "\n",
    "+ integer: d\n",
    "+ floating point number: f\n",
    "+ string: s\n",
    "\n",
    "This is still a bit abstract, so let's consider a concrete example."
   ]
  },
  {
   "cell_type": "code",
   "execution_count": null,
   "metadata": {},
   "outputs": [],
   "source": [
    "for a, b, c in zip(names, x, x7):\n",
    "    print('{0:8s} {1:3d} {2:10d}'.format(a, b, c))"
   ]
  },
  {
   "cell_type": "markdown",
   "metadata": {},
   "source": [
    "Let's dissect our print statement\n",
    "\n",
    "`print('{0:8s} {1:3d} {2:8d}'.format(a, b, c))`\n",
    "\n",
    "+ `{0:8s}` renders the 1st argument as a string of length 8\n",
    "\n",
    "+ `{1:3d}` renders the 2nd argument as integer of length 3\n",
    "\n",
    "+ `{1:3d}` renders the 3rd argument as an integer of length 10\n",
    "\n",
    "+ `.format(a, b, c)` provides the three arguments\n",
    "\n",
    "+ The formatted string is passed as a single argument to `print()`\n",
    "\n",
    "\n"
   ]
  },
  {
   "cell_type": "markdown",
   "metadata": {},
   "source": [
    "We'll go one step further and show how to render floating point numbers using the notation `m.nf` where `m` is the total length and `n` is the number of places after the decimal."
   ]
  },
  {
   "cell_type": "code",
   "execution_count": null,
   "metadata": {},
   "outputs": [],
   "source": [
    "for a, b, c in zip(names, x, x7):\n",
    "    print('{0:8s} {1:3d} {2:10d} {3:12.8f}'.format(a, b, c, b/c))"
   ]
  },
  {
   "cell_type": "markdown",
   "metadata": {},
   "source": [
    "## File I/O"
   ]
  },
  {
   "cell_type": "markdown",
   "metadata": {},
   "source": [
    "In this section we'll cover some of the basics if writing to and reading from a file."
   ]
  },
  {
   "cell_type": "markdown",
   "metadata": {},
   "source": [
    "### Writing to a file"
   ]
  },
  {
   "cell_type": "markdown",
   "metadata": {},
   "source": [
    "Until now, we've been displaying output to the Jupyter notebook - in computer speak, we've been writing to standard output (stdout). While this is great when working with small amounts of text that we want to inspect interactively, there are times when we want to save the data to file for later use or processing. One simple way to do this is to use\n",
    "\n",
    "+ `fout = open(filename, 'w')` to create a file handle (`'w'` means write)\n",
    "+ `fout.write(s)` to write string `s` to the file\n",
    "+ `fout.close()` to close the file handle"
   ]
  },
  {
   "cell_type": "code",
   "execution_count": null,
   "metadata": {},
   "outputs": [],
   "source": [
    "fout = open('x_tothe_7.txt', 'w')\n",
    "for a, b, c in zip(names, x, x7):\n",
    "    s = '{0:8s} {1:3d} {2:10d}\\n'.format(a, b, c)\n",
    "    fout.write(s)\n",
    "fout.close()"
   ]
  },
  {
   "cell_type": "markdown",
   "metadata": {},
   "source": [
    "### What's with the `\\n` in the string?"
   ]
  },
  {
   "cell_type": "markdown",
   "metadata": {},
   "source": [
    "The `print()` function automatically adds a newline character to the output, but the `write()` method does not. To advance to the next line, we need to explicity add the newline character `\\n`"
   ]
  },
  {
   "cell_type": "markdown",
   "metadata": {},
   "source": [
    "### Reading from a file"
   ]
  },
  {
   "cell_type": "markdown",
   "metadata": {},
   "source": [
    "Once we understand how to work with file handles, reading from a file is straightforward. We just need to keep a few things in mind\n",
    "\n",
    "+ We open the file handle using `'r'` for reading\n",
    "\n",
    "+ The Pythonic way to read a file line-by-line is to use the syntax `with open(...) as fh`. This avoids potential problems such as forgetting to close the file handle.\n",
    "\n",
    "+ The lines of the file are read in as strings. You'll normally need to split the line into fields and convert to the appropriate types."
   ]
  },
  {
   "cell_type": "code",
   "execution_count": null,
   "metadata": {},
   "outputs": [],
   "source": [
    "with open('x_tothe_7.txt', 'r') as fin:\n",
    "    for line in fin:\n",
    "        a, b, c = line.split()\n",
    "        print('{0:8s} {1:3d} {2:10d}'.format(a, int(b), int(c)))"
   ]
  },
  {
   "cell_type": "markdown",
   "metadata": {},
   "source": [
    "### More I/O"
   ]
  },
  {
   "cell_type": "markdown",
   "metadata": {},
   "source": [
    "We've only gotten a glimpse of Python's I/O capabilities. We can append to file, read an entire file in one fell swoop, operate on csv (comma separated value) files and work binary data - the computer's internal representation of data. We'll illustrate a few of these capabilities below."
   ]
  },
  {
   "cell_type": "code",
   "execution_count": null,
   "metadata": {},
   "outputs": [],
   "source": [
    "# Read an entire file in one fell swoop\n",
    "# Note that we'll often want to split into lines\n",
    "# and then further split the lines into fields\n",
    "\n",
    "with open('x_tothe_7.txt', 'r') as fin:\n",
    "    contents = fin.read().split('\\n')\n",
    "    \n",
    "print(contents[0])\n",
    "print(contents[1])\n",
    "print(contents[2])"
   ]
  },
  {
   "cell_type": "code",
   "execution_count": null,
   "metadata": {},
   "outputs": [],
   "source": [
    "fout = open('sample.txt', 'w')\n",
    "fout.write(\"This is the first line\\n\")\n",
    "fout.write(\"This is the second line\\n\")\n",
    "fout.close()\n",
    "\n",
    "with open('sample.txt', 'r') as fin:\n",
    "    contents = fin.read()\n",
    "print(contents)\n",
    "\n",
    "fout = open('sample.txt', 'a+') # Append mode, create if does not exist\n",
    "fout.write(\"This is the third line\\n\")\n",
    "fout.write(\"This is the fourth line\\n\")\n",
    "fout.close()\n",
    "\n",
    "with open('sample.txt', 'r') as fin:\n",
    "    contents = fin.read()\n",
    "print(contents)"
   ]
  },
  {
   "cell_type": "markdown",
   "metadata": {},
   "source": [
    "### Exercises"
   ]
  },
  {
   "cell_type": "markdown",
   "metadata": {},
   "source": [
    "Create an array of strings, array of integers and (optionally) and array of floats that all contain the same number of elements. Be sure to use a variety of strings lengths and integers that span multiple orders of magnitude.\n",
    "\n",
    "Write the contents of the arrays to a file using Python's formatting features so that the fields line up neatly. Read the file contents line-by-line and in one fell swoop. Then open the file in append mode, add a few more lines and confirm that things worked as expected.\n",
    "\n",
    "Finally, try breaking your code and see what happens. For example, introduce a mismatch between the number of placeholders and arguments when using the `format()` method or using format specifiers that are too small (e.g. `5d` for integers greater than 99,999)."
   ]
  },
  {
   "cell_type": "code",
   "execution_count": null,
   "metadata": {},
   "outputs": [],
   "source": []
  }
 ],
 "metadata": {
  "kernelspec": {
   "display_name": "Python 3",
   "language": "python",
   "name": "python3"
  },
  "language_info": {
   "codemirror_mode": {
    "name": "ipython",
    "version": 3
   },
   "file_extension": ".py",
   "mimetype": "text/x-python",
   "name": "python",
   "nbconvert_exporter": "python",
   "pygments_lexer": "ipython3",
   "version": "3.6.4"
  }
 },
 "nbformat": 4,
 "nbformat_minor": 2
}
