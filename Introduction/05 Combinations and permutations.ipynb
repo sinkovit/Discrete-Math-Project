{
 "cells": [
  {
   "cell_type": "markdown",
   "metadata": {},
   "source": [
    "# Combinations and permutations with itertools"
   ]
  },
  {
   "cell_type": "markdown",
   "metadata": {},
   "source": [
    "Combinations and permutations play an important role in discrete math. Building on our basic knowledge of Python programming, we'll explore the four combinatoric functions available in the `itertools` module\n",
    "\n",
    "+ `product()`\n",
    "+ `permutations()`\n",
    "+ `combinations()`\n",
    "+ `combinations_with_replacement()`\n",
    "\n",
    "Since we don't need everything in `itertools`, we'll used a slightly different syntax than what we had seen earlier and just import these four combinatoric functions."
   ]
  },
  {
   "cell_type": "code",
   "execution_count": null,
   "metadata": {},
   "outputs": [],
   "source": [
    "from itertools import product, permutations, combinations, combinations_with_replacement"
   ]
  },
  {
   "cell_type": "markdown",
   "metadata": {},
   "source": [
    "## `product()`"
   ]
  },
  {
   "cell_type": "markdown",
   "metadata": {},
   "source": [
    "`product()` returns the Cartesian product of an iterator. It takes two arguments, the iterator and the repeat count. The output will be a tuple containing the cartesian product of the iterator repeated the repeat count amount of times. For convenience, our examples will be based on strings - recall that iterating over a string outputs the letters in the string - but keep in mind that the combinatoric generators can work on any iterable type (lists, sets, etc.)"
   ]
  },
  {
   "cell_type": "code",
   "execution_count": null,
   "metadata": {},
   "outputs": [],
   "source": [
    "product('ABCD', repeat=2)"
   ]
  },
  {
   "cell_type": "code",
   "execution_count": null,
   "metadata": {},
   "outputs": [],
   "source": [
    "for p in product('ABCD', repeat=2):\n",
    "    print(p)"
   ]
  },
  {
   "cell_type": "code",
   "execution_count": null,
   "metadata": {},
   "outputs": [],
   "source": [
    "for p in product(['A', 'B', 'C'], repeat=2):\n",
    "    print(p)"
   ]
  },
  {
   "cell_type": "code",
   "execution_count": null,
   "metadata": {},
   "outputs": [],
   "source": [
    "for p in product({'A', 'B', 'C'}, repeat=2):\n",
    "    print(p)"
   ]
  },
  {
   "cell_type": "markdown",
   "metadata": {},
   "source": [
    "To make the results a little easier to read, we'll collapse the tuples into strings using the `join()` method with an empty separator."
   ]
  },
  {
   "cell_type": "code",
   "execution_count": null,
   "metadata": {},
   "outputs": [],
   "source": [
    "for p in product('ABCD', repeat=2):\n",
    "    print(''.join(p))"
   ]
  },
  {
   "cell_type": "markdown",
   "metadata": {},
   "source": [
    "`product()` and the other combinatoric generators in `itertools` return iterators, with the implication that results are generated as needed. If you need to store the full output from these methods, convert to a list or set. Think carefully before you do this though since the output from these methods can grow very quickly with problem size."
   ]
  },
  {
   "cell_type": "code",
   "execution_count": null,
   "metadata": {},
   "outputs": [],
   "source": [
    "myprod = list(product('ABCD', repeat=2))\n",
    "print(myprod)"
   ]
  },
  {
   "cell_type": "markdown",
   "metadata": {},
   "source": [
    "## `permutations()`"
   ]
  },
  {
   "cell_type": "markdown",
   "metadata": {},
   "source": [
    "`permutations()` generates all permutations or orderings of the members of an iterator. By default, all of the elements of the iterator will be used, but an optional second argument can restrict this to permutations of a given length."
   ]
  },
  {
   "cell_type": "code",
   "execution_count": null,
   "metadata": {},
   "outputs": [],
   "source": [
    "permutations('ABC')"
   ]
  },
  {
   "cell_type": "code",
   "execution_count": null,
   "metadata": {},
   "outputs": [],
   "source": [
    "for p in permutations('ABC'):\n",
    "    print(''.join(p))"
   ]
  },
  {
   "cell_type": "code",
   "execution_count": null,
   "metadata": {},
   "outputs": [],
   "source": [
    "for p in permutations('ABC', 2):\n",
    "    print(''.join(p))"
   ]
  },
  {
   "cell_type": "markdown",
   "metadata": {},
   "source": [
    "## `combinations()`"
   ]
  },
  {
   "cell_type": "markdown",
   "metadata": {},
   "source": [
    "`combinations()` generates all ways of selecting `r` elements from an iterator, with the results in lexigraphical order. Where `permutations()` considers all ways of ordering the elements, `combinations()` only considers unique combinations of elements.\n",
    "\n",
    "For example, the permutations {ABC, ACB, BAC, BCA, CAB, CBA} correspond to a single combination {ABC}"
   ]
  },
  {
   "cell_type": "code",
   "execution_count": null,
   "metadata": {},
   "outputs": [],
   "source": [
    "combinations('ABCD', 3)"
   ]
  },
  {
   "cell_type": "code",
   "execution_count": null,
   "metadata": {},
   "outputs": [],
   "source": [
    "for c in combinations('ABCD', 3):\n",
    "    print(''.join(c))"
   ]
  },
  {
   "cell_type": "markdown",
   "metadata": {},
   "source": [
    "## `combinations_with_replacement()`"
   ]
  },
  {
   "cell_type": "markdown",
   "metadata": {},
   "source": [
    "`combinations_with_replacement()` is similar to `combinations()` except that repeats are allowed. Note that while this behavior looks similar to `product()`, only one combination containing a given list of letters is generated.\n",
    "\n",
    "For example, `product('ABCD', 3)` will generate three results that contain two A's and one B {AAB, ABA, BAA}.  `combinations_with_replacement('ABCD', 3)` outputs AAB, but not ABA or BAA."
   ]
  },
  {
   "cell_type": "code",
   "execution_count": null,
   "metadata": {},
   "outputs": [],
   "source": [
    "list1 = ['A', 'B', 'C', 'D']\n",
    "combinations_with_replacement(list1, 3)"
   ]
  },
  {
   "cell_type": "code",
   "execution_count": null,
   "metadata": {},
   "outputs": [],
   "source": [
    "for c in combinations_with_replacement(list1, 3):\n",
    "    print(''.join(c))"
   ]
  },
  {
   "cell_type": "markdown",
   "metadata": {},
   "source": [
    "## Exercises"
   ]
  },
  {
   "cell_type": "markdown",
   "metadata": {},
   "source": [
    "1. Experiment with the four combinatoric generators and convince yourself that you understand how they work. \n",
    "\n",
    "2. Show that the permutations of the letters in the string \"ABCDEF\" are a subset of the Cartesian product of these letters using repeat length of six. The results will be too large for you to do the comparison manually, so store the results as a set and use the `issubset()` method.\n",
    "\n",
    "3. Show that the combinations of three letters chosen from the string \"ABCDEFGH\" are a subset of the permutations of three letters chosen from this string."
   ]
  },
  {
   "cell_type": "code",
   "execution_count": null,
   "metadata": {},
   "outputs": [],
   "source": [
    "myperm = set(permutations('ABCDEF'))\n",
    "myprod = set(product('ABCDEF', repeat=6))\n",
    "print('Number of permutations', len(myperm))\n",
    "print('Number of products', len(myprod))\n",
    "myperm.issubset(myprod)"
   ]
  },
  {
   "cell_type": "code",
   "execution_count": null,
   "metadata": {},
   "outputs": [],
   "source": [
    "mycomb = set(combinations('ABCDEFGH', 3))\n",
    "myperm = set(permutations('ABCDEFGH', 3))\n",
    "print('Number of combinations', len(mycomb))\n",
    "print('Number of permutations', len(myperm))\n",
    "mycomb.issubset(myperm)"
   ]
  },
  {
   "cell_type": "markdown",
   "metadata": {},
   "source": [
    "## Syntax for combinatoric generators"
   ]
  },
  {
   "cell_type": "markdown",
   "metadata": {},
   "source": [
    "The syntax for the combinatoric generators can be a litte confusing. Is a second argument required? What happens if the second argument is omitted? Is the argument name needed? The following table summarizes the syntax.\n",
    "\n",
    "| generator                     | 2nd argument   | notes                                     |\n",
    "|:-----------------------------:|:--------------:|:------------------------------------------:|\n",
    "| product                       | repeat=n       | optional, but default behavior not useful |\n",
    "| permutations                  | n *or* r=n       | optional, default is to use all elements  |\n",
    "| combinations                  | n *or* r=n       | required                                  |\n",
    "| combinations_with_replacement | n *or* r=n       | required                                  |\n"
   ]
  },
  {
   "cell_type": "markdown",
   "metadata": {},
   "source": [
    "## Applications of combinatoric generators"
   ]
  },
  {
   "cell_type": "markdown",
   "metadata": {},
   "source": [
    "The combinatoric generators that we've described are ideal for applications where we need to enumerate and evaluate all possible outcomes for an event. We provide a few simple examples below."
   ]
  },
  {
   "cell_type": "markdown",
   "metadata": {},
   "source": [
    "### Using `product()` to find dice rolls that sum to a target value"
   ]
  },
  {
   "cell_type": "markdown",
   "metadata": {},
   "source": [
    "When rolling a pair of dice, the most common outcome is that the pips sum to seven. It's trivial to determine how many distinct events lead to this result - enumerate all 36 possibilities, calculate the sum for each and then count the number of sevens\n",
    "\n",
    "|die1/die2   | 1 | 2 | 3 | 4 | 5 | 6 |\n",
    "|------------|---|---|---|---|---|---|\n",
    "| **1**      | 2 | 3 | 4 | 5 | 6 | 7 |\n",
    "| **2**      | 3 | 4 | 5 | 6 | 7 | 8 |\n",
    "| **3**      | 4 | 5 | 6 | 7 | 8 | 9 |\n",
    "| **4**      | 5 | 6 | 7 | 8 | 9 |10 |\n",
    "| **5**      | 6 | 7 | 8 | 9 |10 |11 |\n",
    "| **6**      | 7 | 8 | 9 |10 |11 |12 |\n",
    "\n",
    "\n",
    "Doing a similar exercise for more than two dice quickly gets out of hand and we can use the `product()` function to automate the process as shown below. We've also introduced another bit of Python magic. Adding `%%time` at the top of cell reports the time taken to execute the cell."
   ]
  },
  {
   "cell_type": "code",
   "execution_count": null,
   "metadata": {},
   "outputs": [],
   "source": [
    "%%time\n",
    "ndice = 8\n",
    "target = 28\n",
    "\n",
    "count = 0\n",
    "for p in product([1,2,3,4,5,6], repeat=ndice):\n",
    "    if sum(p) == target:\n",
    "        count += 1\n",
    "        \n",
    "print(\"Number of dice rolled:                 \", ndice)\n",
    "print(\"Target value:                          \", target)\n",
    "print(\"Number outcomes equal to target:       \", count)\n",
    "print(\"Probability of outcome equal to target:\", count/(6**ndice))\n",
    "print()"
   ]
  },
  {
   "cell_type": "markdown",
   "metadata": {},
   "source": [
    "### Exercise"
   ]
  },
  {
   "cell_type": "markdown",
   "metadata": {},
   "source": [
    "Using the previous code example, measure the wall times for the sets of parameters in the table below. Then estimate how long it would take to complete the calculations for (ndice=12, target=42) and (ndice=14, target=49).\n",
    "\n",
    "| ndice | target |\n",
    "|-------|--------|\n",
    "| 2     | 7      |\n",
    "| 4     | 14     |\n",
    "| 6     | 21     |\n",
    "| 8     | 28     |\n",
    "| 10    | 35     |\n"
   ]
  },
  {
   "cell_type": "markdown",
   "metadata": {},
   "source": [
    "### Using `combinations()` to find number of arrangement without streaks"
   ]
  },
  {
   "cell_type": "markdown",
   "metadata": {},
   "source": [
    "Imagine that we're doing a gardening project that involves planting a row of red and white flowers. To keep the design visually appealing, we might decide that we want to avoid long streaks of red flowers. \n",
    "\n",
    "This leads to an interesting combinatorial question - how many ways can we arrange *N* flowers, with *n* indistinguishable red flowers and *N-n* indistinguishable white flowers, so that we have no more than *m* consecutive red flowers.\n",
    "\n",
    "We can use the `combinations()` function to generate all the ways of assigning the *n* red flowers to the *N* positions and then evaluate each of these configurations to see which ones avoid stretches of *m* or more red flowers."
   ]
  },
  {
   "cell_type": "code",
   "execution_count": null,
   "metadata": {},
   "outputs": [],
   "source": [
    "%%time\n",
    "nflowers = 10       # Total number of flowers\n",
    "nred = 5            # Number of red flowers\n",
    "m = 3               # Max number of consecutive red flowers\n",
    "show_comb = True    # If True, print allowed combinations\n",
    "\n",
    "# Initialize the number of combinations satisfying max_streak <= m\n",
    "count = 0\n",
    "\n",
    "for c in combinations(range(nflowers), nred):\n",
    "\n",
    "    # Re-initialize parameters for each combination\n",
    "    streak = 0\n",
    "    longest_streak = 0\n",
    "\n",
    "    # Iterate over positions in combination\n",
    "    for p in c:\n",
    "        if streak == 0:                      # Start streak\n",
    "            streak = 1\n",
    "        elif streak > 0 and p - p_last == 1: # Extend streak\n",
    "            streak += 1\n",
    "        else:                                # End current and start new streak\n",
    "            streak = 1\n",
    "            \n",
    "        if streak > longest_streak:\n",
    "            longest_streak = streak\n",
    "        p_last = p\n",
    "\n",
    "    # Test length of longest streak\n",
    "    if longest_streak <= m:\n",
    "        if show_comb:\n",
    "            print(c, longest_streak)\n",
    "        count += 1\n",
    "        \n",
    "print(\"Total number of flowers:      \", nflowers)\n",
    "print(\"Number of red flowers:        \", nred)\n",
    "print(\"Max allowed consecutive red:  \", m)\n",
    "print(\"Number of allowed combinations:\", count)\n",
    "print()"
   ]
  },
  {
   "cell_type": "code",
   "execution_count": null,
   "metadata": {},
   "outputs": [],
   "source": []
  }
 ],
 "metadata": {
  "kernelspec": {
   "display_name": "Python 3",
   "language": "python",
   "name": "python3"
  },
  "language_info": {
   "codemirror_mode": {
    "name": "ipython",
    "version": 3
   },
   "file_extension": ".py",
   "mimetype": "text/x-python",
   "name": "python",
   "nbconvert_exporter": "python",
   "pygments_lexer": "ipython3",
   "version": "3.6.4"
  }
 },
 "nbformat": 4,
 "nbformat_minor": 2
}
