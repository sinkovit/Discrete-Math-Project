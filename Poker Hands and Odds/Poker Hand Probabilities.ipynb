{
 "cells": [
  {
   "cell_type": "code",
   "execution_count": null,
   "metadata": {},
   "outputs": [],
   "source": [
    "import math\n",
    "from itertools import combinations"
   ]
  },
  {
   "cell_type": "markdown",
   "metadata": {},
   "source": [
    "Poker Games and Probabilities\n",
    "========================="
   ]
  },
  {
   "cell_type": "markdown",
   "metadata": {},
   "source": [
    "Lets cover some basic poker hands and their probabilities. There are 2,589,960 different possible five card poker hands. Lets set up the notebook to calculate out every possible hand."
   ]
  },
  {
   "cell_type": "code",
   "execution_count": null,
   "metadata": {},
   "outputs": [],
   "source": [
    "suits = [\"D\", \"C\", \"H\", \"S\"] #Diamonds, Clubs, Hearts, Spades\n",
    "values = [\"A\",\"2\",\"3\",\"4\",\"5\",\"6\",\"7\",\"8\",\"9\",\"10\",\"J\",\"Q\",\"K\"] #Ace, 2-10, Jack, Queen, King\n",
    "cards = [] #Create an empty array to store all the cards\n",
    "\n",
    "for suit in suits:\n",
    "    for value in values:\n",
    "        cards.append(suit + value) #Add every card to the cards list in suit value format\n",
    "        \n",
    "print(cards) #Display every card in our deck"
   ]
  },
  {
   "cell_type": "markdown",
   "metadata": {},
   "source": [
    "We won't print out every possible hand, but we will count them"
   ]
  },
  {
   "cell_type": "code",
   "execution_count": null,
   "metadata": {},
   "outputs": [],
   "source": [
    "%%time\n",
    "count = 0\n",
    "for p in combinations(cards, 5):\n",
    "    count += 1\n",
    "print(count)"
   ]
  },
  {
   "cell_type": "markdown",
   "metadata": {},
   "source": [
    "This is our combinations way to count the number of possible hands, below is the manual way of counting the possible hands"
   ]
  },
  {
   "cell_type": "code",
   "execution_count": null,
   "metadata": {},
   "outputs": [],
   "source": [
    "%%time\n",
    "numberOfHands = 0 #Our counter for the total number of hands\n",
    "hands = [] #A list that stores every hand in it\n",
    "\n",
    "for i in range(52): #The first card in the hand\n",
    "    for j in range(i+1, 52): #The second card in the hand\n",
    "        for k in range(j+1, 52): #The third card in the hand\n",
    "            for l in range(k+1, 52): #The fourth card in the hand\n",
    "                for m in range (l+1, 52): #The fifth card in the hand\n",
    "                    numberOfHands += 1\n",
    "                    hands.append(cards[i]+cards[j]+cards[k]+cards[l]+cards[m]) #We add the hand into our list\n",
    "\n",
    "print(numberOfHands)"
   ]
  },
  {
   "cell_type": "markdown",
   "metadata": {},
   "source": [
    "This program manually counts the possible number of hands in 5 card poker. \n",
    "It does so like this:\n",
    "i is the first card in the deck which is added to the hand, DA\n",
    "j is the second card in the deck, D2\n",
    "k is D3\n",
    "l is D4\n",
    "m is D5\n",
    "So our first hand is DA, D2, D3, D4, and D5. \n",
    "In order to count the number of possible hands, we count every possible card combination that could be in the hand.\n",
    "\n",
    "First we count DA,D2,D3,D4,D5 then DA,D2,D3,D4,D6 then DA,D2,D3,D4,D7 etc. until we reach DA,D2,D3,D4,SK\n",
    "\n",
    "Since we reached the end of the possiblities for the last card, the fourth card will be changed to the next card, which in our case is D5 and we will continue counting hands\n",
    "DA,D2,D3,D5,D6   DA,D2,D3,D5,D7     DA,D2,D3,D5,D8    DA,D2,D3,D5,D9 until DA,D2,D3,D5,SK\n",
    "\n",
    "We will do this for every card in the deck until we reach S9,S10,SJ,SQ,SK.\n",
    "\n",
    "The program simulates this mathematically through looping through number representations of the deck\n",
    "The program will loop 52 times for the possibilities of the first card, 51 times for the second card, 50 times for the third card, 49 times for the fourth card, and 48 times for the fifth card.\n",
    "\n",
    "This can also be represented by 52 choose 5 or $\\dfrac{!52}{(!5 \\cdot !(52-5))}$"
   ]
  },
  {
   "cell_type": "code",
   "execution_count": null,
   "metadata": {},
   "outputs": [],
   "source": [
    "math.factorial(52)/(math.factorial(5)*math.factorial(52-5))"
   ]
  },
  {
   "cell_type": "markdown",
   "metadata": {},
   "source": [
    "Now lets count the probability of each hand"
   ]
  },
  {
   "cell_type": "code",
   "execution_count": null,
   "metadata": {},
   "outputs": [],
   "source": [
    "pairHands = 0 #The number of hands in a pair\n",
    "\n",
    "for hand in hands: #We perform the check for pairs in every possible hand\n",
    "    hasPair = False #Tell whether the hand has a pair\n",
    "    moreThanOnePair = False #Tell if the hand has more than one pair\n",
    "    \n",
    "    handWithoutZero = hand.replace('0', '') #To simplify our comparisons, we remove the 0 from any 10 cards\n",
    "    \n",
    "    for char in range(1,10,2):  #These two loops compare the values of the cards against eachother\n",
    "                                #For every value, we compare it to every value after it\n",
    "            \n",
    "        for char2 in range(char+2,10,2):\n",
    "            \n",
    "            #If the values are the same and there is already a pair in the hand, \n",
    "            #we break the loop and mark that hand as having more than one pair\n",
    "            if handWithoutZero[char] == handWithoutZero[char2] and hasPair: \n",
    "                moreThanOnePair = True                                  \n",
    "                break\n",
    "                \n",
    "            #Otherwise, if there is a pair, we mark the hand as having a pair\n",
    "            elif handWithoutZero[char] == handWithoutZero[char2]:\n",
    "                hasPair = True\n",
    "        \n",
    "        #If the hand has more than one pair, we skip checking the rest of the cards to save time\n",
    "        if(moreThanOnePair):\n",
    "            break\n",
    "            \n",
    "    #If the hand has one pair and not more than one pair, we count it\n",
    "    if hasPair and not moreThanOnePair:\n",
    "        pairHands += 1\n",
    "    \n",
    "\n",
    "print(pairHands)"
   ]
  },
  {
   "cell_type": "markdown",
   "metadata": {},
   "source": [
    "By our program's estimate, there are 1098240 hands with only one pair in them.\n",
    "2598960/1098240 = "
   ]
  },
  {
   "cell_type": "code",
   "execution_count": null,
   "metadata": {},
   "outputs": [],
   "source": [
    "pairPercent = pairHands/numberOfHands * 100\n",
    "print(str(round(pairPercent, 2)) + \"%\")"
   ]
  },
  {
   "cell_type": "code",
   "execution_count": null,
   "metadata": {},
   "outputs": [],
   "source": [
    "#We choose 1 number out of 13 possible numbers for one pair, and we choose 2 suits out of 4 possible suits\n",
    "pairRank = math.factorial(13)/(math.factorial(12)*math.factorial(1))\n",
    "pairSuit = math.factorial(4)/(math.factorial(2)*math.factorial(2))\n",
    "\n",
    "#The other cards must show different numbers from both eachother and the pair, so we choose 3 numbers out of 12 possibilities\n",
    "notPairRank = math.factorial(12)/(math.factorial(3)*math.factorial(9))\n",
    "\n",
    "#For each of the three other cards that are not part of the pair, we choose 1 out of 4 possible suits\n",
    "notPairSuit = (math.factorial(4)/(math.factorial(3)*math.factorial(1)))**3\n",
    "\n",
    "#To get the total number of possible hands with one pair, we multiply all of these numbers together\n",
    "pairRank * pairSuit * notPairRank * notPairSuit"
   ]
  },
  {
   "cell_type": "markdown",
   "metadata": {},
   "source": [
    "What about hands with two pairs? To do this, we'll approach it the same way many different approaches"
   ]
  },
  {
   "cell_type": "code",
   "execution_count": null,
   "metadata": {},
   "outputs": [],
   "source": [
    "#Lets try and check every possible hand. This implementation will look a lot like the single pair script, \n",
    "#but with some major changes\n",
    "\n",
    "twoPairHands = 0 #The variable that stores the number of hands with two pairs\n",
    "\n",
    "for hand in hands: #We perform the check for pairs in every possible hand\n",
    "    numberOfPairs = 0 #We are going to record the number of pairs to make sure it is exactly two\n",
    "    pairCharacter = \"\" #We are going to track the characters of each pair to filter our 3 and 4 of a kind\n",
    "    pairCharacterDifferent = True #We are going to make sure that we don't accidentally count 3 or 4 of a kind with a boolean\n",
    "    \n",
    "    handWithoutZero = hand.replace('0', '') #To simplify our comparisons, we remove the 0 from any 10 cards\n",
    "    \n",
    "    for char in range(1,10,2):  #These two loops compare the values of the cards against eachother\n",
    "                                #For every value, we compare it to every value after it\n",
    "            \n",
    "        for char2 in range(char+2,10,2):\n",
    "            \n",
    "            if handWithoutZero[char] == handWithoutZero[char2]: #If the values match, we add 1 to the number of pairs\n",
    "                numberOfPairs += 1\n",
    "                if pairCharacter == handWithoutZero[char]:  #If the value of the first pair is equal to that of a second\n",
    "                                                            #we discard the hand and break the loop\n",
    "                    pairCharacterDifferent = False\n",
    "                    break\n",
    "                \n",
    "                else:\n",
    "                    pairCharacter = handWithoutZero[char] #Otherwise we store the pair character for later comparison\n",
    "        \n",
    "        #If the hand has a 3 or 4 of a kind, we skip checking the rest of the values to save time\n",
    "        if (not pairCharacterDifferent):\n",
    "            break\n",
    "            \n",
    "    #If the hand has two pairs and not a 3 or 4 of a kind, we count it\n",
    "    if numberOfPairs == 2 and pairCharacterDifferent:\n",
    "        twoPairHands += 1\n",
    "        \n",
    "print(twoPairHands)"
   ]
  },
  {
   "cell_type": "code",
   "execution_count": null,
   "metadata": {},
   "outputs": [],
   "source": [
    "twoPairPercent = twoPairHands/numberOfHands * 100\n",
    "print(str(round(twoPairPercent, 2)) + \"%\")"
   ]
  },
  {
   "cell_type": "code",
   "execution_count": null,
   "metadata": {},
   "outputs": [],
   "source": [
    "twoPairRanks = math.factorial(13)/(math.factorial(11)*math.factorial(2))\n",
    "twoPairSuits = (math.factorial(4)/(math.factorial(2)*math.factorial(2)))**2\n",
    "\n",
    "otherRank = math.factorial(11)/(math.factorial(10)*math.factorial(1))\n",
    "otherSuit = math.factorial(4)/(math.factorial(3)*math.factorial(1))\n",
    "\n",
    "print(twoPairRanks*twoPairSuits*otherRank*otherSuit)"
   ]
  },
  {
   "cell_type": "code",
   "execution_count": null,
   "metadata": {},
   "outputs": [],
   "source": [
    "threeOfAKindHands = 0\n",
    "for hand in hands: #We perform the check for pairs in every possible hand\n",
    "    trioCount = 0 #Count cards for the trio\n",
    "    hasTrio = False #Tell whether the hand has a trio\n",
    "    trioChar = ''\n",
    "    moreThanOnePair = False #Tell if the hand has more than one pair\n",
    "    \n",
    "    handWithoutZero = hand.replace('0', '') #To simplify our calculations, we remove the 0 from any 10 cards\n",
    "    \n",
    "    for char in range(1,10,2):  #These two loops compare the values of the cards against eachother\n",
    "                                #For every value, we compare it to every value after it\n",
    "        for char2 in range(char+2,10,2):\n",
    "            \n",
    "            if handWithoutZero[char] == handWithoutZero[char2] and trioCount == 0: #For the first shared value \n",
    "                trioChar = handWithoutZero[char] #The character is saved \n",
    "                trioCount += 1 #And the number of shared values is incremented by one\n",
    "            elif handWithoutZero[char] == handWithoutZero[char2] and trioChar == handWithoutZero[char]: \n",
    "                #For other shared values that match the saved value, the count is incremented by 1\n",
    "                trioCount += 1 \n",
    "                \n",
    "            if handWithoutZero[char] == handWithoutZero[char2] and trioChar != handWithoutZero[char]:\n",
    "                #If there is a pair that does not match the saved value, we break out of the loop\n",
    "                moreThanOnePair = True \n",
    "                break\n",
    "        \n",
    "        #If the hand has more than one pair, we skip checking the rest of the cards to save time\n",
    "        if moreThanOnePair:\n",
    "            break\n",
    "            \n",
    "    #If the hand has a three of a kind an not any other pairs, we count it\n",
    "    if trioCount == 3 and not moreThanOnePair:\n",
    "        threeOfAKindHands += 1\n",
    "    \n",
    "\n",
    "print(threeOfAKindHands)"
   ]
  },
  {
   "cell_type": "code",
   "execution_count": null,
   "metadata": {},
   "outputs": [],
   "source": [
    "threeOfAKindPercent = threeOfAKindHands/numberOfHands * 100\n",
    "print(str(round(threeOfAKindPercent, 2)) + \"%\")"
   ]
  },
  {
   "cell_type": "code",
   "execution_count": null,
   "metadata": {},
   "outputs": [],
   "source": [
    "threeOfAKindRanks = math.factorial(13)/(math.factorial(12)*math.factorial(1))\n",
    "threeOfAKindSuits = (math.factorial(4)/(math.factorial(3)*math.factorial(1)))\n",
    "\n",
    "otherRank = math.factorial(12)/(math.factorial(10)*math.factorial(2))\n",
    "otherSuit = (math.factorial(4)/(math.factorial(3)*math.factorial(1)))**2\n",
    "\n",
    "print(threeOfAKindRanks*threeOfAKindSuits*otherRank*otherSuit)"
   ]
  },
  {
   "cell_type": "code",
   "execution_count": null,
   "metadata": {},
   "outputs": [],
   "source": [
    "fourOfAKindHands = 0\n",
    "for hand in hands: #We perform the check for pairs in every possible hand\n",
    "    fourCount = 0 #Count cards for the trio\n",
    "    hasQuad = False #Tell whether the hand has a trio\n",
    "    quadChar = ''\n",
    "    moreThanOnePair = False #Tell if the hand has more than one pair\n",
    "    \n",
    "    handWithoutZero = hand.replace('0', '') #To simplify our calculations, we remove the 0 from any 10 cards\n",
    "    \n",
    "    for char in range(1,10,2):  #These two loops compare the values of the cards against eachother\n",
    "                                #For every value, we compare it to every value after it\n",
    "        for char2 in range(char+2,10,2):\n",
    "            \n",
    "            if handWithoutZero[char] == handWithoutZero[char2] and fourCount == 0: #For the first shared value \n",
    "                quadChar = handWithoutZero[char] #The character is saved \n",
    "                fourCount += 1 #And the number of shared values is incremented by one\n",
    "            elif handWithoutZero[char] == handWithoutZero[char2] and quadChar == handWithoutZero[char]: \n",
    "                #For other shared values that match the saved value, the count is incremented by 1\n",
    "                fourCount += 1 \n",
    "                \n",
    "            if handWithoutZero[char] == handWithoutZero[char2] and quadChar != handWithoutZero[char]:\n",
    "                #If there is a pair that does not match the saved value, we break out of the loop\n",
    "                moreThanOnePair = True \n",
    "                break\n",
    "        \n",
    "        #If the hand has more than one pair, we skip checking the rest of the cards to save time\n",
    "        if moreThanOnePair:\n",
    "            break\n",
    "            \n",
    "    #If the hand has a four of a kind and no other pairs, we count it\n",
    "    if fourCount == 6 and not moreThanOnePair:\n",
    "        fourOfAKindHands += 1\n",
    "    \n",
    "\n",
    "print(fourOfAKindHands)"
   ]
  },
  {
   "cell_type": "markdown",
   "metadata": {},
   "source": [
    "See if you can explain why fourCount is looking for a value of 6 rather than a value of 4. "
   ]
  },
  {
   "cell_type": "code",
   "execution_count": null,
   "metadata": {},
   "outputs": [],
   "source": [
    "fourOfAKindPercent = fourOfAKindHands/numberOfHands * 100\n",
    "print(str(round(fourOfAKindPercent, 4)) + \"%\")"
   ]
  },
  {
   "cell_type": "code",
   "execution_count": null,
   "metadata": {},
   "outputs": [],
   "source": [
    "fourOfAKindRank = math.factorial(13)/(math.factorial(12)*math.factorial(1))\n",
    "\n",
    "otherRank = math.factorial(12)/(math.factorial(11)*math.factorial(1))\n",
    "otherSuit = (math.factorial(4)/(math.factorial(1)*math.factorial(3)))\n",
    "\n",
    "print(fourOfAKindRank*otherRank*otherSuit)"
   ]
  },
  {
   "cell_type": "code",
   "execution_count": null,
   "metadata": {},
   "outputs": [],
   "source": [
    "fullHouseHands = 0\n",
    "for hand in hands: #We perform the check for pairs in every possible hand\n",
    "    trioCount = 0 #Count cards for the trio\n",
    "    hasTrio = False #Tell whether the hand has a trio\n",
    "    trioChar = ''\n",
    "    moreThanOnePair = False #Tell if the hand has more than one pair\n",
    "    \n",
    "    handWithoutZero = hand.replace('0', '') #To simplify our calculations, we remove the 0 from any 10 cards\n",
    "    \n",
    "    for char in range(1,10,2):  #These two loops compare the values of the cards against eachother\n",
    "                                #For every value, we compare it to every value after it\n",
    "        for char2 in range(char+2,10,2):\n",
    "            #Try and fill in the comparisons here to count the number of full house hands. \n",
    "            #HINT: The conditions for a full house are having a pair and a three of a kind, use the variables to make those\n",
    "            #conditions true\n",
    "            \n",
    "            \n",
    "    #If the hand has a three of a kind an not any other pairs, we count it\n",
    "    if trioCount == 3 #and SOME CONDITION:\n",
    "        fullHouseHands += 1\n",
    "    \n",
    "\n",
    "print(fullHouseHands)"
   ]
  },
  {
   "cell_type": "code",
   "execution_count": null,
   "metadata": {},
   "outputs": [],
   "source": [
    "tripleHouseRanks = math.factorial(13)/(math.factorial(12)*math.factorial(1))\n",
    "tripleHouseSuits = (math.factorial(4)/(math.factorial(3)*math.factorial(1)))\n",
    "\n",
    "pairHouseRank = math.factorial(12)/(math.factorial(11)*math.factorial(1))\n",
    "pairHouseSuit = (math.factorial(4)/(math.factorial(2)*math.factorial(2)))\n",
    "\n",
    "print(tripleHouseRanks*tripleHouseSuits*pairHouseRank*pairHouseSuit)"
   ]
  },
  {
   "cell_type": "code",
   "execution_count": 3,
   "metadata": {},
   "outputs": [
    {
     "ename": "NameError",
     "evalue": "name 'hands' is not defined",
     "output_type": "error",
     "traceback": [
      "\u001b[1;31m---------------------------------------------------------------------------\u001b[0m",
      "\u001b[1;31mNameError\u001b[0m                                 Traceback (most recent call last)",
      "\u001b[1;32m<ipython-input-3-8ebc07915b79>\u001b[0m in \u001b[0;36m<module>\u001b[1;34m\u001b[0m\n\u001b[0;32m      1\u001b[0m \u001b[0mstraightCount\u001b[0m \u001b[1;33m=\u001b[0m \u001b[1;36m0\u001b[0m\u001b[1;33m\u001b[0m\u001b[1;33m\u001b[0m\u001b[0m\n\u001b[1;32m----> 2\u001b[1;33m \u001b[1;32mfor\u001b[0m \u001b[0mhand\u001b[0m \u001b[1;32min\u001b[0m \u001b[0mhands\u001b[0m\u001b[1;33m:\u001b[0m \u001b[1;31m#We perform the check for pairs in every possible hand\u001b[0m\u001b[1;33m\u001b[0m\u001b[1;33m\u001b[0m\u001b[0m\n\u001b[0m\u001b[0;32m      3\u001b[0m \u001b[1;33m\u001b[0m\u001b[0m\n\u001b[0;32m      4\u001b[0m     \u001b[0mstraightBool\u001b[0m \u001b[1;33m=\u001b[0m \u001b[1;32mTrue\u001b[0m\u001b[1;33m\u001b[0m\u001b[1;33m\u001b[0m\u001b[0m\n\u001b[0;32m      5\u001b[0m     \u001b[0mflushBool\u001b[0m \u001b[1;33m=\u001b[0m \u001b[1;32mTrue\u001b[0m\u001b[1;33m\u001b[0m\u001b[1;33m\u001b[0m\u001b[0m\n",
      "\u001b[1;31mNameError\u001b[0m: name 'hands' is not defined"
     ]
    }
   ],
   "source": [
    "straightCount = 0\n",
    "for hand in hands: #We perform the check for pairs in every possible hand\n",
    "    \n",
    "    handWithoutZero = hand.replace('0', '') #To simplify our calculations, we remove the 0 from any 10 cards\n",
    "    straightBool = True\n",
    "    flushBool = True\n",
    "    savedSuit = handWithoutZero[0]\n",
    "    for char2 in range(2,10,2):\n",
    "        if(savedSuit != handWithoutZero):\n",
    "            flushBool = False\n",
    "    \n",
    "    valueList = []\n",
    "    for char in range(1,10,2):\n",
    "        if(handWithoutZero[char] == '1'):\n",
    "            valueList.append(10)\n",
    "            continue\n",
    "        if(handWithoutZero[char] == 'A' and char == 1):\n",
    "            valueList.append(1)\n",
    "            continue\n",
    "        if(handWithoutZero[char] == 'A' and char == 9):\n",
    "            valueList.append(14)\n",
    "            continue\n",
    "        if(handWithoutZero[char] == 'J'):\n",
    "            valueList.append(11)\n",
    "            continue\n",
    "        if(handWithoutZero[char] == 'Q'):\n",
    "            valueList.append(12)\n",
    "            continue\n",
    "        if(handWithoutZero[char] == 'K'):\n",
    "            valueList.append(13)\n",
    "            continue\n",
    "        valueList.append(int(handWithoutZero[char]))\n",
    "        \n",
    "    for \n",
    "        \n",
    "print(straightHands)"
   ]
  },
  {
   "cell_type": "code",
   "execution_count": 5,
   "metadata": {},
   "outputs": [
    {
     "name": "stdout",
     "output_type": "stream",
     "text": [
      "['1', '1', '2', '4', '4', 'A']\n"
     ]
    }
   ],
   "source": [
    "listTest = ['A','1','2','4','4','1']\n",
    "listTest.sort()\n",
    "print(listTest)"
   ]
  },
  {
   "cell_type": "code",
   "execution_count": null,
   "metadata": {},
   "outputs": [],
   "source": []
  }
 ],
 "metadata": {
  "kernelspec": {
   "display_name": "Python 3",
   "language": "python",
   "name": "python3"
  },
  "language_info": {
   "codemirror_mode": {
    "name": "ipython",
    "version": 3
   },
   "file_extension": ".py",
   "mimetype": "text/x-python",
   "name": "python",
   "nbconvert_exporter": "python",
   "pygments_lexer": "ipython3",
   "version": "3.6.4"
  }
 },
 "nbformat": 4,
 "nbformat_minor": 4
}
