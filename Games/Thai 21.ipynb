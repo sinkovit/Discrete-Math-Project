{
 "cells": [
  {
   "cell_type": "markdown",
   "metadata": {},
   "source": [
    "# Thai 21"
   ]
  },
  {
   "cell_type": "markdown",
   "metadata": {},
   "source": [
    "Consider the game *Thai 21*, which was featured on the show *Survivor*. Starting with 21 flags, each team alternates taking 1, 2 or 3 flags and the team that takes the last flag wins. We might be tempted to look for a winning strategy by drawing a decision tree starting with 21 flags and then working through all possible games\n",
    "\n",
    "**Round 1**\n",
    "+ Team 1 takes 1, 20 remain\n",
    "+ Team 1 takes 2, 19 remain\n",
    "+ Team 1 takes 3, 18 remain\n",
    "\n",
    "**Round 2**\n",
    "+ Team 1 takes 1, 20 remain\n",
    "    + Team 2 takes 1, 19 remain\n",
    "    + Team 2 takes 2, 18 remain\n",
    "    + Team 2 takes 3, 17 remain  \n",
    "...\n",
    "\n",
    "**Round 3**\n",
    "+ Team 1 takes 1, 20 remain\n",
    "    + Team 2 takes 1, 19 remain\n",
    "        + Team 1 takes 1, 18 remain\n",
    "        + Team 1 takes 2, 17 remain\n",
    "        + Team 1 takes 3, 16 remain  \n",
    "...\n",
    "\n",
    "By the time we get to round 3, things are already getting out of hand. We quickly realize that with a minimum of seven rounds (7 x 3 = 21) and a maximum of 21 rounds (21 x 1) this will be a monumental task. We definitely need to use our mathematical intuition rather than brute force. \n",
    "\n",
    "We can use recursion to determine the number of possible ways of playing the game to conclusion, but there will be other problems that we may want to attack computationally. For example\n",
    "\n",
    "+ Can we explicitly list all of these games?\n",
    "+ What is the distribution of game lengths?\n",
    "+ Are there more ways of playing the game that take an even number of rounds than an odd number of rounds?\n",
    "\n",
    "While answering these questions, we can also computationally confirm that the solution for number of games arrived at using recursion was correct."
   ]
  },
  {
   "cell_type": "markdown",
   "metadata": {},
   "source": [
    "## Computational solution"
   ]
  },
  {
   "cell_type": "markdown",
   "metadata": {},
   "source": [
    "In the code below, we show how to enumerate all possible ways of playing the game to completion. Although the program is short and compact, the logic is a little tricky and requires that we're comfortable working with lists (and lists of lists), loops, decision making and Python's definition of objects that evaluate as True."
   ]
  },
  {
   "cell_type": "markdown",
   "metadata": {},
   "source": [
    "### Representating a game"
   ]
  },
  {
   "cell_type": "markdown",
   "metadata": {},
   "source": [
    "To simulate *Thai 21* using a computer, we need a way to represent a game. One way to do this is to maintain a list of the number of flags removed at each round. We just need to remember that the 1st, 3rd, 5th etc. elements correspond to team one and the 2nd, 4th, 6th etc. correspond to team two. If we decide later that we want to separately list the moves for the two teams, it's easy enough to split the game into its even and odd elements. Although other, more complicated data structures can be used, using a simple list has the advantage of being intutive and easy to work with.\n",
    "\n",
    "We also need to be aware that games can be in different states. We'll label a game as *in-progress* if the sum of the flags removed is less than 21 and *complete* if the total number of flags removed equals 21.\n",
    "\n",
    "+ \\[3, 3, 3, 1, 2\\] is an in-progress game (sum of flags is only 12)\n",
    "+ \\[1, 2, 3, 3, 3, 3, 3, 3\\] is a complete game (sum of flags is 21)"
   ]
  },
  {
   "cell_type": "markdown",
   "metadata": {},
   "source": [
    "### Representing a collection of games"
   ]
  },
  {
   "cell_type": "markdown",
   "metadata": {},
   "source": [
    "We can also use lists to maintain collections of games. The one wrinkle is that these will actually be lists of lists. Recall, that lists can contain any type of element, including other lists.\n",
    "\n",
    "+ \\[ \\[3, 3, 3, 1, 1\\], \\[3, 3, 3, 1, 2\\], \\[3, 3, 3, 1, 3\\] \\] is a list of three in-progress games\n",
    "+ \\[ \\[1, 2, 3, 3, 3, 3, 3, 3\\], \\[2, 1, 3, 3, 3, 3, 3, 3\\] \\] is a list of two complete games"
   ]
  },
  {
   "cell_type": "markdown",
   "metadata": {},
   "source": [
    "### Explanation of program"
   ]
  },
  {
   "cell_type": "markdown",
   "metadata": {},
   "source": [
    "We start by creating empty lists to keep track of the games that are in-progress and games that are complete. Managing the in-progress games is a little tricky since the in-progress games at one round serve as the jumping off point for the next round. We also need to think carefully about how to initialize our list of in-progress games. Managing the complete games is simpler since once a game is complete no more modifications are possible.\n",
    "\n",
    "There are a few ways to initialize the in-progress games. One option is to seed the process with the three opening moves: \\[1\\], \\[2\\], \\[3\\]. An even better way is to truly start at the very beginning, before any moves were made, with a single empty list: \\[ \\].\n",
    "\n",
    "At each round, we loop over the in-progress games and append elements corresponding to the allowed number of flags removed. In *Thai 21* this results in three new games for each in-progress game. We then delete all of the previous in-progress games - they're no longer needed - and loop over these new games taking one of three actions\n",
    "\n",
    "+ (sum < 21) $\\rightarrow$ in-progress games\n",
    "+ (sum = 21) $\\rightarrow$ complete games\n",
    "+ (sum > 21) $\\rightarrow$ invalid game (ignore)\n",
    "\n",
    "Once the list of in-progress games is empty, we terminate the program.\n",
    "\n",
    "Why did our program work? Wouldn't the while loop have failed at the first iteration? A subtle point is that a list containing a single empty list in not really empty and will not evaluate to False. Think of the difference between the empty set and the set containing the empty set, $\\emptyset$ vs. {$\\emptyset$}.\n",
    "\n",
    "A few rounds of the program are illustrated below.\n",
    "\n",
    "+ Round 0\n",
    "    + Start with in-progress games: \\[ \\]\n",
    "    + Create test games: \\[1\\], \\[2\\], \\[3\\]\n",
    "    + Delete in-progress games: \\[ \\] (no longer needed)\n",
    "    + Add to in-progress games: \\[1\\], \\[2\\], \\[3\\]\n",
    "+ Round 1\n",
    "    + Start with in-progress games: \\[1\\], \\[2\\], \\[3\\]\n",
    "    + Create test games: \\[1, 1\\], \\[2, 1\\], \\[3, 1\\], \\[1, 2\\], \\[2, 2\\], \\[3, 2\\], \\[1, 3\\], \\[2, 3\\], \\[3, 3\\]\n",
    "    + Delete in-progress games: \\[1\\], \\[2\\], \\[3\\]\n",
    "    + Add to in-progress games: \\[1, 1\\], \\[2, 1\\], \\[3, 1\\], \\[1, 2\\], \\[2, 2\\], \\[3, 2\\], \\[1, 3\\], \\[2, 3\\], \\[3, 3\\]\n",
    "+ Round 2\n",
    "    + Start with in-progress games: \\[1, 1\\], \\[2, 1\\], \\[3, 1\\], ...\n",
    "    + Create test games: \\[1, 1, 1\\], \\[2, 1, 2\\], \\[3, 1, 2\\], ...\n",
    "    + Delete in-progress games: \\[1, 1\\], \\[2, 1\\], \\[3, 1\\], ...\n",
    "    + Add to in-progress games: \\[1, 1, 1\\], \\[2, 1, 2\\], \\[3, 1, 2\\], ...\n",
    "+ ...\n",
    "+ Round 7 (using single in-progress game for clarity)\n",
    "    + Start with in-progress games: \\[3, 3, 3, 3, 3, 3, 1\\]\n",
    "    + Create test games: \\[3, 3, 3, 3, 3, 3, 1, 1\\], \\[3, 3, 3, 3, 3, 3, 1, 2\\], \\[3, 3, 3, 3, 3, 3, 1, 3\\]\n",
    "    + Delete in-progress games : \\[3, 3, 3, 3, 3, 3, 1\\]\n",
    "    + Add to in-progress games: \\[3, 3, 3, 3, 3, 3, 1, 1\\] (sums to 20)\n",
    "    + Add to complete games: \\[3, 3, 3, 3, 3, 3, 1, 2\\] (sums to 21)\n",
    "    + Ignore invalid games: \\[3, 3, 3, 3, 3, 3, 1, 3\\] (sums to 22)"
   ]
  },
  {
   "cell_type": "code",
   "execution_count": null,
   "metadata": {},
   "outputs": [],
   "source": [
    "complete_games = []     # Truly empty - this is where we'll collect games that sum to 21\n",
    "inprogress_games = [[]] # Not really empty - list containin an empty list\n",
    "round = 0\n",
    "\n",
    "while inprogress_games:\n",
    "    print('--- round ---', round)\n",
    "    round += 1\n",
    "    \n",
    "    # Create an array to store games derived from previous round\n",
    "    testgames = [] \n",
    "    for game in inprogress_games:\n",
    "        for i in [1,2,3]:\n",
    "            testgames.append(game + [i])\n",
    "\n",
    "    # Reinitialize inprogress_games - previous games no longer needed\n",
    "    inprogress_games = []\n",
    "    \n",
    "    # Sort testgames into in-progress and complete; invalid games silently ignored\n",
    "    for testgame in testgames:\n",
    "        if sum(testgame) < 21:\n",
    "            inprogress_games.append(testgame)\n",
    "        elif sum(testgame) == 21:\n",
    "            complete_games.append(testgame)\n",
    "\n",
    "print(len(complete_games))"
   ]
  },
  {
   "cell_type": "markdown",
   "metadata": {},
   "source": [
    "After running the program, we now have a list containing all ways of playing *Thai 21*. It's a little overwhelming to view all of the games, so we'll just list a few of the longest games below."
   ]
  },
  {
   "cell_type": "code",
   "execution_count": null,
   "metadata": {},
   "outputs": [],
   "source": [
    "for i in range(223217,223317):\n",
    "    print(complete_games[i], len(complete_games[i]))"
   ]
  },
  {
   "cell_type": "markdown",
   "metadata": {},
   "source": [
    "## Exercises"
   ]
  },
  {
   "cell_type": "markdown",
   "metadata": {},
   "source": [
    "Turn the code example above into a function that returns the list of complete games. Using the output, determine the numbers of games requiring even and odd numbers of rounds. Determine the number of games of each length (hint - minimum is 7, maximum is 21).\n",
    "\n",
    "Generalize your function to accept a different number of flag (e.g. not fixed at 21) and different rules for removing flags (e.g. can remove 1, 2, or 4 flags instead of 1, 2, or 3)"
   ]
  },
  {
   "cell_type": "code",
   "execution_count": null,
   "metadata": {},
   "outputs": [],
   "source": []
  }
 ],
 "metadata": {
  "kernelspec": {
   "display_name": "Python 3",
   "language": "python",
   "name": "python3"
  },
  "language_info": {
   "codemirror_mode": {
    "name": "ipython",
    "version": 3
   },
   "file_extension": ".py",
   "mimetype": "text/x-python",
   "name": "python",
   "nbconvert_exporter": "python",
   "pygments_lexer": "ipython3",
   "version": "3.7.6"
  }
 },
 "nbformat": 4,
 "nbformat_minor": 2
}
