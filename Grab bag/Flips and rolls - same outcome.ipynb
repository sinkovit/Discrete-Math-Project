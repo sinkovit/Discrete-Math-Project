{
 "cells": [
  {
   "cell_type": "markdown",
   "metadata": {},
   "source": [
    "# Flips and rolls - same outcome"
   ]
  },
  {
   "cell_type": "markdown",
   "metadata": {},
   "source": [
    "Two people each flip a coin $N$ times. What is the likelihood that they'll both get the same number of heads? In this exercise, we'll start with a simple example that can easily be solved by hand - four flips of a fair coin. We'll then generalize to larger numbers of flips, unfair coins and more choices (e.g. six-sided dice)."
   ]
  },
  {
   "cell_type": "code",
   "execution_count": null,
   "metadata": {},
   "outputs": [],
   "source": [
    "# Loading modules and setting up environment\n",
    "%matplotlib inline\n",
    "import matplotlib as mpl\n",
    "import matplotlib.pyplot as plt\n",
    "import numpy as np\n",
    "import copy\n",
    "from collections import Counter\n",
    "from collections import OrderedDict\n",
    "\n",
    "mpl.get_backend()"
   ]
  },
  {
   "cell_type": "markdown",
   "metadata": {},
   "source": [
    "For four flips of a fair coin, there are 16 possible outcomes. We can easily enumerate and group the outcomes by the number of heads.\n",
    "\n",
    "+ Zero heads: $TTTT  \\rightarrow T^4$\n",
    "+ One head: $HTTT, THTT, TTHT, TTTH \\rightarrow HT^3$\n",
    "+ Two heads: $HHTT, HTHT, HTTH, THHT, THTH, TTHH \\rightarrow H^2T^2$\n",
    "+ Three heads: $HHHT, HHTH, HTHH, THHH \\rightarrow H^3T$\n",
    "+ Four heads: $HHHH \\rightarrow H^4$\n",
    "\n",
    "For a fair coin, each of these outcomes is equally likely and the probabilities for generating a given number of heads is given below.\n",
    "\n",
    "+ $p_0 = 1/16$\n",
    "+ $p_1 = 4/16$\n",
    "+ $p_2 = 6/16$\n",
    "+ $p_3 = 4/16$\n",
    "+ $p_4 = 1/16$\n",
    "\n",
    "The likelihood of two people each flipping four coins and getting the same number of heads is given by: probability of both getting zero heads + probability both getting one head + ... + probability both getting four heads\n",
    "\n",
    "$p_{H1=H2} = p_0^2 + p_1^2 + p_2^2 + p_3^2 + p_4^2 = 0.2734375$\n",
    "\n",
    "Let's simulate some coin flips using the random.choice() function and see if our results agree with the predictions. \n",
    "\n",
    "Just for geeks: In the example below, we sort the results so that outcomes with equal numbers of heads are equivalent (e.g. HTHT and THHT both map to HHTT). We could have used the python Counter type, but this turned out to be a little slower."
   ]
  },
  {
   "cell_type": "code",
   "execution_count": null,
   "metadata": {},
   "outputs": [],
   "source": [
    "%%time\n",
    "\n",
    "options = ['H', 'T']\n",
    "nrounds = 10000\n",
    "\n",
    "agree = 0\n",
    "for i in range(nrounds):\n",
    "    outcome1 = np.random.choice(options, size=4)\n",
    "    outcome2 = np.random.choice(options, size=4)\n",
    "    outcome1.sort()\n",
    "    outcome2.sort()\n",
    "    if np.all(outcome1 == outcome2):\n",
    "        agree += 1\n",
    "        \n",
    "print('Fraction of times both players get same number of heads: ', agree/nrounds, '\\n')"
   ]
  },
  {
   "cell_type": "markdown",
   "metadata": {},
   "source": [
    "Lets generalize our code to an arbitrary number of coins tosses and consider the possibility of an unfair coin"
   ]
  },
  {
   "cell_type": "code",
   "execution_count": null,
   "metadata": {},
   "outputs": [],
   "source": [
    "%%time\n",
    "\n",
    "options = ['H', 'T']\n",
    "probs = [0.8, 0.2]\n",
    "nflips = 4\n",
    "nrounds = 10000\n",
    "\n",
    "agree = 0\n",
    "for i in range(nrounds):\n",
    "    outcome1 = np.random.choice(options, size=nflips, p=probs)\n",
    "    outcome2 = np.random.choice(options, size=nflips, p=probs)\n",
    "    outcome1.sort()\n",
    "    outcome2.sort()\n",
    "    if np.all(outcome1 == outcome2):\n",
    "        agree += 1\n",
    "        \n",
    "print('Fraction of times both players get same number of heads: ', agree/nrounds, '\\n')"
   ]
  },
  {
   "cell_type": "markdown",
   "metadata": {},
   "source": [
    "... and generalize even further to look at how often two people throwing dice get the same number of 1s, 2s, etc. This is where the value of being able to simulate the process becomes apparent. Even with an unfair coin and a large number of flips, we can write a (probably long) formula to calculate the probability of agreement. \n",
    "\n",
    "By the time we get to six rolls of a six-sided die, there are 46,656 possible outcomes (e.g. 112345, 123451, ...) that can be sorted into 462 categories (e.g. $1^6$, $1^52$, $123^34^2$, ... $6^6$) and it becomes impractical to write out an exact result."
   ]
  },
  {
   "cell_type": "code",
   "execution_count": null,
   "metadata": {},
   "outputs": [],
   "source": [
    "%%time\n",
    "\n",
    "options = [1, 2, 3, 4, 5, 6]\n",
    "probs = [1/6, 1/6, 1/6, 1/6, 1/6, 1/6]\n",
    "nrolls = 6\n",
    "nrounds = 100000\n",
    "\n",
    "agree = 0\n",
    "for i in range(nrounds):\n",
    "    outcome1 = np.random.choice(options, size=nrolls, p=probs)\n",
    "    outcome2 = np.random.choice(options, size=nrolls, p=probs)\n",
    "    outcome1.sort()\n",
    "    outcome2.sort()\n",
    "    if np.all(outcome1 == outcome2):\n",
    "        agree += 1\n",
    "        \n",
    "print('Fraction of times both players get same number of 1s, 2s, ...: ', agree/nrounds, '\\n')"
   ]
  },
  {
   "cell_type": "code",
   "execution_count": null,
   "metadata": {},
   "outputs": [],
   "source": []
  }
 ],
 "metadata": {
  "kernelspec": {
   "display_name": "Python 3",
   "language": "python",
   "name": "python3"
  },
  "language_info": {
   "codemirror_mode": {
    "name": "ipython",
    "version": 3
   },
   "file_extension": ".py",
   "mimetype": "text/x-python",
   "name": "python",
   "nbconvert_exporter": "python",
   "pygments_lexer": "ipython3",
   "version": "3.7.6"
  }
 },
 "nbformat": 4,
 "nbformat_minor": 2
}
