{
 "cells": [
  {
   "cell_type": "markdown",
   "metadata": {},
   "source": [
    "# Six dice - same outcome"
   ]
  },
  {
   "cell_type": "markdown",
   "metadata": {},
   "source": [
    "Two people each roll six dice. What is the likelihood that they'll both get the same number of 1s, 2s, ... and 6s? Recall that we're not interested in the order of the results, but rather the total number of times each number occurs in the six rolls. For our purposes 132365, 321563, and 336512 are all equivalent.\n",
    "\n",
    "In this example, we'll use a brute force method to enumerate all the possibilities and generate the exact probability."
   ]
  },
  {
   "cell_type": "code",
   "execution_count": null,
   "metadata": {},
   "outputs": [],
   "source": [
    "# Loading modules and setting up environment\n",
    "import numpy as np\n",
    "import itertools\n",
    "from collections import Counter"
   ]
  },
  {
   "cell_type": "markdown",
   "metadata": {},
   "source": [
    "We'll use the Python itertools.product() to generate all possible outcomes for six dice rolls. The behavior of this function is illustrated below. Note that the itertools produce tuples rather than lists, so we'll need to keep this in mind when we go to the next steps."
   ]
  },
  {
   "cell_type": "code",
   "execution_count": null,
   "metadata": {},
   "outputs": [],
   "source": [
    "list1 = ['A', 'B', 'C']\n",
    "list2 = ['x', 'y', 'z']\n",
    "for outcome in itertools.product(list1, list2):\n",
    "    print(outcome)"
   ]
  },
  {
   "cell_type": "markdown",
   "metadata": {},
   "source": [
    "The product function can take an optional 'repeat' argument that specifies a list should be used multiple times. This will come in handy later."
   ]
  },
  {
   "cell_type": "code",
   "execution_count": null,
   "metadata": {},
   "outputs": [],
   "source": [
    "list1 = ['A', 'B', 'C']\n",
    "for outcome in itertools.product(list1, repeat=3):\n",
    "    print(outcome)"
   ]
  },
  {
   "cell_type": "markdown",
   "metadata": {},
   "source": [
    "We now use itertools to generate all $6^6$ possible outcomes and assign to classes (recall that 123356, 321563, and 336512 are all equivalent). To do this, we convert the tuple to a list, sort the elements of the list and condense into a single string. For example\n",
    "\n",
    "('1', '3', '4', '6', '5', '2') --> '123456'\n",
    "\n",
    "After all outcomes have been enumerated and converted to classes, the Python Counter type is used to determine how many times each class occurs."
   ]
  },
  {
   "cell_type": "code",
   "execution_count": null,
   "metadata": {},
   "outputs": [],
   "source": [
    "classes = []\n",
    "die = ['1', '2', '3', '4', '5', '6']\n",
    "for outcome in itertools.product(die, repeat=6):\n",
    "    outcome = list(outcome)\n",
    "    outcome.sort()\n",
    "    mystr = ''.join(outcome)\n",
    "    classes.append(mystr)\n",
    "    \n",
    "counts = Counter(classes)"
   ]
  },
  {
   "cell_type": "markdown",
   "metadata": {},
   "source": [
    "As a sanity check, we'll make sure that we have 462 classes as we had expected. This number can be derived using a technique called \"Stars and bars\". See https://en.wikipedia.org/wiki/Stars_and_bars_(combinatorics)"
   ]
  },
  {
   "cell_type": "code",
   "execution_count": null,
   "metadata": {},
   "outputs": [],
   "source": [
    "len(counts)"
   ]
  },
  {
   "cell_type": "markdown",
   "metadata": {},
   "source": [
    "We can also inspect a few of the results. The class '111111' should only occur once since there is only one way to roll six ones. The class '123456' should occur 720 times since there are 6! ways of ordering the results."
   ]
  },
  {
   "cell_type": "code",
   "execution_count": null,
   "metadata": {},
   "outputs": [],
   "source": [
    "print ('Class 111111 occurs ', counts['111111'], 'times')\n",
    "print ('Class 123456 occurs ', counts['123456'], 'times')\n"
   ]
  },
  {
   "cell_type": "markdown",
   "metadata": {},
   "source": [
    "As in our earlier coin toss example, the probablilty of the two players rolling the same number of 1s, 2s, etc. is equal to the square of the probabilities for each of the distributions."
   ]
  },
  {
   "cell_type": "code",
   "execution_count": null,
   "metadata": {},
   "outputs": [],
   "source": [
    "n_outcomes = 6**6\n",
    "p = 0\n",
    "for v in counts.values():\n",
    "    p += (v/n_outcomes) * (v/n_outcomes)\n",
    "    "
   ]
  },
  {
   "cell_type": "code",
   "execution_count": null,
   "metadata": {},
   "outputs": [],
   "source": [
    "p"
   ]
  },
  {
   "cell_type": "markdown",
   "metadata": {},
   "source": [
    "As always, we can generalize our code to accommodate different numbers of rolls ($nrolls$) and number of sides ($nsides$) on the dice. Keep in mind that the time to generate the result can grow rapidly, with run time proportional to $nsides^{nrolls}$."
   ]
  },
  {
   "cell_type": "code",
   "execution_count": null,
   "metadata": {},
   "outputs": [],
   "source": [
    "%%time\n",
    "\n",
    "nrolls = 1\n",
    "nsides = 12\n",
    "\n",
    "classes = []\n",
    "die = list(map(str,list(range(1,nsides+1))))\n",
    "for outcome in itertools.product(die, repeat=nrolls):\n",
    "    outcome = list(outcome)\n",
    "    outcome.sort()\n",
    "    mystr = ''.join(outcome)\n",
    "    classes.append(mystr)\n",
    "    \n",
    "counts = Counter(classes)\n",
    "\n",
    "n_outcomes = nsides**nrolls\n",
    "p = 0\n",
    "for v in counts.values():\n",
    "    p += (v/n_outcomes) * (v/n_outcomes)\n",
    "    \n",
    "print('Number of rolls =', nrolls)\n",
    "print('Number of sides on die =', nsides)\n",
    "print('Prob of two players having same outcome =', p, '\\n')"
   ]
  },
  {
   "cell_type": "code",
   "execution_count": null,
   "metadata": {},
   "outputs": [],
   "source": []
  }
 ],
 "metadata": {
  "kernelspec": {
   "display_name": "Python 3",
   "language": "python",
   "name": "python3"
  },
  "language_info": {
   "codemirror_mode": {
    "name": "ipython",
    "version": 3
   },
   "file_extension": ".py",
   "mimetype": "text/x-python",
   "name": "python",
   "nbconvert_exporter": "python",
   "pygments_lexer": "ipython3",
   "version": "3.7.6"
  }
 },
 "nbformat": 4,
 "nbformat_minor": 2
}
