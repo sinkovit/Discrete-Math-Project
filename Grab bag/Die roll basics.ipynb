{
 "cells": [
  {
   "cell_type": "markdown",
   "metadata": {},
   "source": [
    "# Die roll basics"
   ]
  },
  {
   "cell_type": "markdown",
   "metadata": {},
   "source": [
    "When rolling a fair die, we expect certain outcomes. Although we know that the outcome of a single roll is random, we anticipate that for a large number of rolls, each number should come up with the same frequency. We would also be surprised if we encountered long runs of the same number, such as six 2's in a row. In this exercise we'll explore these assumptions."
   ]
  },
  {
   "cell_type": "code",
   "execution_count": null,
   "metadata": {},
   "outputs": [],
   "source": [
    "# Loading modules and setting up environment\n",
    "%matplotlib inline\n",
    "import matplotlib as mpl\n",
    "import matplotlib.pyplot as plt\n",
    "import numpy as np\n",
    "from collections import Counter\n",
    "from collections import OrderedDict\n",
    "\n",
    "mpl.get_backend()"
   ]
  },
  {
   "cell_type": "markdown",
   "metadata": {},
   "source": [
    "Generate 1000 rolls of a fair die"
   ]
  },
  {
   "cell_type": "code",
   "execution_count": null,
   "metadata": {},
   "outputs": [],
   "source": [
    "rolls = np.random.randint(1,7,1000)"
   ]
  },
  {
   "cell_type": "markdown",
   "metadata": {},
   "source": [
    "Take a look at the first 100 rolls"
   ]
  },
  {
   "cell_type": "code",
   "execution_count": null,
   "metadata": {},
   "outputs": [],
   "source": [
    "rolls[0:99]"
   ]
  },
  {
   "cell_type": "markdown",
   "metadata": {},
   "source": [
    "Show how many times each number appears"
   ]
  },
  {
   "cell_type": "code",
   "execution_count": null,
   "metadata": {},
   "outputs": [],
   "source": [
    "Counter(rolls)"
   ]
  },
  {
   "cell_type": "markdown",
   "metadata": {},
   "source": [
    "We'll now look a little deeper at the behavior of our fair die. Experiment with the number of rolls (nrolls) and number of sides on the die and look for trends in the variance in how frequently each number occurs."
   ]
  },
  {
   "cell_type": "code",
   "execution_count": null,
   "metadata": {},
   "outputs": [],
   "source": [
    "# nrolls = number of rolls, nsides = number of sides on die\n",
    "nrolls = 1000000\n",
    "nsides = 6\n",
    "\n",
    "rolls = np.random.randint(1,nsides+1,nrolls)\n",
    "od = OrderedDict(sorted(Counter(rolls).items()))\n",
    "print('Minimum times a number is rolled:', min(od.values()))\n",
    "print('Maximum times a number is rolled:', max(od.values()))\n",
    "print('Ratio of min/max:', min(od.values())/max(od.values()))\n",
    "print('Difference max - min:', max(od.values()) - min(od.values()))\n",
    "\n",
    "pips = od.keys()\n",
    "counts = od.values()\n",
    "\n",
    "f, ax = plt.subplots()\n",
    "x_pos = np.arange(len(pips))\n",
    "ax.bar(x_pos, counts, align='center')\n",
    "ax.set_xticks(x_pos)\n",
    "ax.set_xticklabels(pips)\n",
    "ax.set_ylabel('Die rolls binned by pip value')\n",
    "ax.set_title('Die result counts')\n",
    "plt.show()"
   ]
  },
  {
   "cell_type": "markdown",
   "metadata": {},
   "source": [
    "Next, we'll look for the longest streak in sequence of rolls and how the length of the streak depends on the number of rolls and numbers of sides on the die."
   ]
  },
  {
   "cell_type": "code",
   "execution_count": null,
   "metadata": {},
   "outputs": [],
   "source": [
    "nrolls = 1000000\n",
    "nsides = 6\n",
    "rolls = np.random.randint(1,nsides+1,nrolls)\n",
    "\n",
    "run = []\n",
    "longest_run = []\n",
    "previous = 0\n",
    "\n",
    "for outcome in rolls:\n",
    "    if outcome == previous:\n",
    "        run.append(outcome)\n",
    "    else:\n",
    "        if len(run) > len(longest_run):\n",
    "            longest_run = run\n",
    "        run = [outcome]\n",
    "    previous = outcome\n",
    "    \n",
    "\n",
    "print(longest_run)"
   ]
  },
  {
   "cell_type": "code",
   "execution_count": null,
   "metadata": {},
   "outputs": [],
   "source": []
  },
  {
   "cell_type": "code",
   "execution_count": null,
   "metadata": {},
   "outputs": [],
   "source": []
  }
 ],
 "metadata": {
  "kernelspec": {
   "display_name": "Python 3",
   "language": "python",
   "name": "python3"
  },
  "language_info": {
   "codemirror_mode": {
    "name": "ipython",
    "version": 3
   },
   "file_extension": ".py",
   "mimetype": "text/x-python",
   "name": "python",
   "nbconvert_exporter": "python",
   "pygments_lexer": "ipython3",
   "version": "3.7.6"
  }
 },
 "nbformat": 4,
 "nbformat_minor": 2
}
